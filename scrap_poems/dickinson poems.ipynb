{
 "cells": [
  {
   "cell_type": "code",
   "execution_count": 220,
   "metadata": {},
   "outputs": [],
   "source": [
    "from selenium import webdriver\n",
    "from bs4 import BeautifulSoup\n",
    "import pandas as pd\n",
    "import re"
   ]
  },
  {
   "cell_type": "code",
   "execution_count": 221,
   "metadata": {},
   "outputs": [],
   "source": [
    "import requests\n",
    "response = requests.get('https://poets.org/poem/wild-nights-wild-nights-249')"
   ]
  },
  {
   "cell_type": "code",
   "execution_count": 222,
   "metadata": {},
   "outputs": [],
   "source": [
    "soup = BeautifulSoup(response.text)"
   ]
  },
  {
   "cell_type": "code",
   "execution_count": 235,
   "metadata": {},
   "outputs": [],
   "source": [
    "title = soup.find('title').contents[0][:-len(' by Emily Dickinson - Poems | poets.org')]"
   ]
  },
  {
   "cell_type": "code",
   "execution_count": 236,
   "metadata": {},
   "outputs": [
    {
     "data": {
      "text/plain": [
       "'Wild Nights Wild Nights!\\nWere I with thee\\nWild Nights should be\\nOur luxury!\\nFutile the winds\\nTo a heart in port\\nDone with the compass\\nDone with the chart!\\nRowing in Eden\\nAh, the sea!\\nMight I moor Tonight\\nIn thee!'"
      ]
     },
     "execution_count": 236,
     "metadata": {},
     "output_type": "execute_result"
    }
   ],
   "source": [
    "poem_body = soup.find('div', class_='poem__body px-md-4 font-serif')\n",
    "poem_body = [str(i.contents[0]).replace('–', '') for i in poem_body.find_all('span')]\n",
    "poem_body = [re.sub('\\s+', ' ', i).strip() for i in poem_body] #substitute all tabs, newlines and other whitespace-like characters.\n",
    "poem_body = '\\n'.join(poem_body)\n",
    "poem_body"
   ]
  },
  {
   "cell_type": "code",
   "execution_count": 237,
   "metadata": {},
   "outputs": [],
   "source": [
    "def get_title_and_poem(soup):\n",
    "    title = soup.find('title').contents[0][:-len(' by Emily Dickinson - Poems | poets.org')]\n",
    "    poem_body = soup.find('div', class_='poem__body px-md-4 font-serif')\n",
    "    poem_body = [str(i.contents[0]).replace('–', '') for i in poem_body.find_all('span')]\n",
    "    poem_body = [re.sub('\\s+', ' ', i).strip() for i in poem_body] #substitute all tabs, newlines and other whitespace-like characters.\n",
    "    return (title , '\\n'.join(poem_body))"
   ]
  },
  {
   "cell_type": "code",
   "execution_count": 238,
   "metadata": {},
   "outputs": [
    {
     "data": {
      "text/plain": [
       "('Wild Nights—Wild Nights! (249)',\n",
       " 'Wild Nights Wild Nights!\\nWere I with thee\\nWild Nights should be\\nOur luxury!\\nFutile the winds\\nTo a heart in port\\nDone with the compass\\nDone with the chart!\\nRowing in Eden\\nAh, the sea!\\nMight I moor Tonight\\nIn thee!')"
      ]
     },
     "execution_count": 238,
     "metadata": {},
     "output_type": "execute_result"
    }
   ],
   "source": [
    "get_title_and_poem(soup)"
   ]
  },
  {
   "cell_type": "code",
   "execution_count": 167,
   "metadata": {},
   "outputs": [],
   "source": [
    "response = requests.get('https://poets.org/poems/emily-dickinson')\n",
    "soup = BeautifulSoup(response.text)"
   ]
  },
  {
   "cell_type": "code",
   "execution_count": 217,
   "metadata": {},
   "outputs": [],
   "source": [
    "title_list= soup.find_all('td',attrs={'data-label':'Title'})\n",
    "href_list = [i.find('a')['href'] for i in title_list]\n",
    "url_list = ['https://poets.org'+i for i in href_list]"
   ]
  },
  {
   "cell_type": "code",
   "execution_count": 239,
   "metadata": {},
   "outputs": [],
   "source": [
    "title_list=[]\n",
    "poem_list=[]\n",
    "for url in url_list:\n",
    "    response = requests.get(url)\n",
    "    soup = BeautifulSoup(response.text)\n",
    "    title , poem = get_title_and_poem(soup)\n",
    "    title_list.append(title)\n",
    "    poem_list.append(poem)"
   ]
  },
  {
   "cell_type": "code",
   "execution_count": 245,
   "metadata": {},
   "outputs": [
    {
     "data": {
      "text/plain": [
       "45"
      ]
     },
     "execution_count": 245,
     "metadata": {},
     "output_type": "execute_result"
    }
   ],
   "source": [
    "len(poem_list)"
   ]
  },
  {
   "cell_type": "code",
   "execution_count": 306,
   "metadata": {},
   "outputs": [],
   "source": [
    "response = requests.get(url_list[40],'lxml')\n",
    "soup = BeautifulSoup(response.text)\n",
    "poem = soup.find_all('script', attrs={'type':\"application/ld+json\"})"
   ]
  },
  {
   "cell_type": "code",
   "execution_count": 307,
   "metadata": {},
   "outputs": [],
   "source": [
    "import json"
   ]
  },
  {
   "cell_type": "code",
   "execution_count": 319,
   "metadata": {},
   "outputs": [
    {
     "name": "stdout",
     "output_type": "stream",
     "text": [
      "A Drop fell on the Apple Tree (794)\n",
      "A Drop fell on the Apple Tree -Another - on the Roof -A Half a Dozen kissed the Eaves -And made the Gables laugh -\n",
      "\n",
      "A few went out to help the BrookThat went to help the Sea -Myself Conjectured were they Pearls -What Necklaces could be -\n",
      "\n",
      "The Dust replaced, in Hoisted Roads -The Birds jocoser sung -The Sunshine threw his Hat away -The Bushes - spangles flung -\n",
      "\n",
      "The Breezes brought dejected Lutes -And bathed them in the Glee -The Orient showed a single Flag,And signed the fête away -\n"
     ]
    }
   ],
   "source": [
    "aux= soup.select(\"[type='application/ld+json']\")[0]\n",
    "print(json.loads(aux.text)[\"@graph\"][0]['headline'])\n",
    "print(json.loads(aux.text)[\"@graph\"][0]['description'])"
   ]
  },
  {
   "cell_type": "code",
   "execution_count": null,
   "metadata": {},
   "outputs": [],
   "source": []
  }
 ],
 "metadata": {
  "kernelspec": {
   "display_name": "Python 3",
   "language": "python",
   "name": "python3"
  },
  "language_info": {
   "codemirror_mode": {
    "name": "ipython",
    "version": 3
   },
   "file_extension": ".py",
   "mimetype": "text/x-python",
   "name": "python",
   "nbconvert_exporter": "python",
   "pygments_lexer": "ipython3",
   "version": "3.7.1"
  }
 },
 "nbformat": 4,
 "nbformat_minor": 2
}
