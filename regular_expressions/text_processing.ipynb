{
 "cells": [
  {
   "cell_type": "markdown",
   "metadata": {},
   "source": [
    "# Text Processing\n",
    "\n",
    "## Capturing Text Data\n",
    "\n",
    "### Plain Text"
   ]
  },
  {
   "cell_type": "code",
   "execution_count": 1,
   "metadata": {},
   "outputs": [
    {
     "name": "stdout",
     "output_type": "stream",
     "text": [
      "Hieroglyphic writing dates from c. 3000 BC, and is composed of hundreds of symbols. A hieroglyph can represent a word, a sound, or a silent determinative; and the same symbol can serve different purposes in different contexts. Hieroglyphs were a formal script, used on stone monuments and in tombs, that could be as detailed as individual works of art.\n",
      "\n"
     ]
    }
   ],
   "source": [
    "import os\n",
    "\n",
    "# Read in a plain text file\n",
    "with open(os.path.join(\"data\", \"hieroglyph.txt\"), \"r\") as f:\n",
    "    text = f.read()\n",
    "    print(text)"
   ]
  },
  {
   "cell_type": "markdown",
   "metadata": {},
   "source": [
    "### Tabular Data"
   ]
  },
  {
   "cell_type": "code",
   "execution_count": 2,
   "metadata": {
    "scrolled": true
   },
   "outputs": [
    {
     "data": {
      "text/html": [
       "<div>\n",
       "<style scoped>\n",
       "    .dataframe tbody tr th:only-of-type {\n",
       "        vertical-align: middle;\n",
       "    }\n",
       "\n",
       "    .dataframe tbody tr th {\n",
       "        vertical-align: top;\n",
       "    }\n",
       "\n",
       "    .dataframe thead th {\n",
       "        text-align: right;\n",
       "    }\n",
       "</style>\n",
       "<table border=\"1\" class=\"dataframe\">\n",
       "  <thead>\n",
       "    <tr style=\"text-align: right;\">\n",
       "      <th></th>\n",
       "      <th>publisher</th>\n",
       "      <th>title</th>\n",
       "    </tr>\n",
       "  </thead>\n",
       "  <tbody>\n",
       "    <tr>\n",
       "      <th>0</th>\n",
       "      <td>Livemint</td>\n",
       "      <td>fed's charles plosser sees high bar for change...</td>\n",
       "    </tr>\n",
       "    <tr>\n",
       "      <th>1</th>\n",
       "      <td>IFA Magazine</td>\n",
       "      <td>us open: stocks fall after fed official hints ...</td>\n",
       "    </tr>\n",
       "    <tr>\n",
       "      <th>2</th>\n",
       "      <td>IFA Magazine</td>\n",
       "      <td>fed risks falling 'behind the curve', charles ...</td>\n",
       "    </tr>\n",
       "    <tr>\n",
       "      <th>3</th>\n",
       "      <td>Moneynews</td>\n",
       "      <td>fed's plosser: nasty weather has curbed job gr...</td>\n",
       "    </tr>\n",
       "    <tr>\n",
       "      <th>4</th>\n",
       "      <td>NASDAQ</td>\n",
       "      <td>plosser: fed may have to accelerate tapering pace</td>\n",
       "    </tr>\n",
       "  </tbody>\n",
       "</table>\n",
       "</div>"
      ],
      "text/plain": [
       "      publisher                                              title\n",
       "0      Livemint  fed's charles plosser sees high bar for change...\n",
       "1  IFA Magazine  us open: stocks fall after fed official hints ...\n",
       "2  IFA Magazine  fed risks falling 'behind the curve', charles ...\n",
       "3     Moneynews  fed's plosser: nasty weather has curbed job gr...\n",
       "4        NASDAQ  plosser: fed may have to accelerate tapering pace"
      ]
     },
     "execution_count": 2,
     "metadata": {},
     "output_type": "execute_result"
    }
   ],
   "source": [
    "import pandas as pd\n",
    "\n",
    "# Extract text column from a dataframe\n",
    "df = pd.read_csv(os.path.join(\"data\", \"news.csv\"))\n",
    "df.head()[['publisher', 'title']]\n",
    "\n",
    "# Convert text column to lowercase\n",
    "df['title'] = df['title'].str.lower()\n",
    "df.head()[['publisher', 'title']]"
   ]
  },
  {
   "cell_type": "markdown",
   "metadata": {},
   "source": [
    "### Online Resource"
   ]
  },
  {
   "cell_type": "code",
   "execution_count": 3,
   "metadata": {},
   "outputs": [
    {
     "ename": "KeyboardInterrupt",
     "evalue": "",
     "output_type": "error",
     "traceback": [
      "\u001b[0;31m---------------------------------------------------------------------------\u001b[0m",
      "\u001b[0;31mKeyboardInterrupt\u001b[0m                         Traceback (most recent call last)",
      "\u001b[0;32m<ipython-input-3-46fe695727d6>\u001b[0m in \u001b[0;36m<module>\u001b[0;34m\u001b[0m\n\u001b[1;32m      5\u001b[0m \u001b[0;31m# Fetch data from a REST API\u001b[0m\u001b[0;34m\u001b[0m\u001b[0;34m\u001b[0m\u001b[0;34m\u001b[0m\u001b[0m\n\u001b[1;32m      6\u001b[0m r = requests.get(\n\u001b[0;32m----> 7\u001b[0;31m     \"https://quotes.rest/qod.json\")\n\u001b[0m\u001b[1;32m      8\u001b[0m \u001b[0mres\u001b[0m \u001b[0;34m=\u001b[0m \u001b[0mr\u001b[0m\u001b[0;34m.\u001b[0m\u001b[0mjson\u001b[0m\u001b[0;34m(\u001b[0m\u001b[0;34m)\u001b[0m\u001b[0;34m\u001b[0m\u001b[0;34m\u001b[0m\u001b[0m\n\u001b[1;32m      9\u001b[0m \u001b[0mprint\u001b[0m\u001b[0;34m(\u001b[0m\u001b[0mjson\u001b[0m\u001b[0;34m.\u001b[0m\u001b[0mdumps\u001b[0m\u001b[0;34m(\u001b[0m\u001b[0mres\u001b[0m\u001b[0;34m,\u001b[0m \u001b[0mindent\u001b[0m\u001b[0;34m=\u001b[0m\u001b[0;36m4\u001b[0m\u001b[0;34m)\u001b[0m\u001b[0;34m)\u001b[0m\u001b[0;34m\u001b[0m\u001b[0;34m\u001b[0m\u001b[0m\n",
      "\u001b[0;32m~/anaconda3/lib/python3.7/site-packages/requests/api.py\u001b[0m in \u001b[0;36mget\u001b[0;34m(url, params, **kwargs)\u001b[0m\n\u001b[1;32m     74\u001b[0m \u001b[0;34m\u001b[0m\u001b[0m\n\u001b[1;32m     75\u001b[0m     \u001b[0mkwargs\u001b[0m\u001b[0;34m.\u001b[0m\u001b[0msetdefault\u001b[0m\u001b[0;34m(\u001b[0m\u001b[0;34m'allow_redirects'\u001b[0m\u001b[0;34m,\u001b[0m \u001b[0;32mTrue\u001b[0m\u001b[0;34m)\u001b[0m\u001b[0;34m\u001b[0m\u001b[0;34m\u001b[0m\u001b[0m\n\u001b[0;32m---> 76\u001b[0;31m     \u001b[0;32mreturn\u001b[0m \u001b[0mrequest\u001b[0m\u001b[0;34m(\u001b[0m\u001b[0;34m'get'\u001b[0m\u001b[0;34m,\u001b[0m \u001b[0murl\u001b[0m\u001b[0;34m,\u001b[0m \u001b[0mparams\u001b[0m\u001b[0;34m=\u001b[0m\u001b[0mparams\u001b[0m\u001b[0;34m,\u001b[0m \u001b[0;34m**\u001b[0m\u001b[0mkwargs\u001b[0m\u001b[0;34m)\u001b[0m\u001b[0;34m\u001b[0m\u001b[0;34m\u001b[0m\u001b[0m\n\u001b[0m\u001b[1;32m     77\u001b[0m \u001b[0;34m\u001b[0m\u001b[0m\n\u001b[1;32m     78\u001b[0m \u001b[0;34m\u001b[0m\u001b[0m\n",
      "\u001b[0;32m~/anaconda3/lib/python3.7/site-packages/requests/api.py\u001b[0m in \u001b[0;36mrequest\u001b[0;34m(method, url, **kwargs)\u001b[0m\n\u001b[1;32m     59\u001b[0m     \u001b[0;31m# cases, and look like a memory leak in others.\u001b[0m\u001b[0;34m\u001b[0m\u001b[0;34m\u001b[0m\u001b[0;34m\u001b[0m\u001b[0m\n\u001b[1;32m     60\u001b[0m     \u001b[0;32mwith\u001b[0m \u001b[0msessions\u001b[0m\u001b[0;34m.\u001b[0m\u001b[0mSession\u001b[0m\u001b[0;34m(\u001b[0m\u001b[0;34m)\u001b[0m \u001b[0;32mas\u001b[0m \u001b[0msession\u001b[0m\u001b[0;34m:\u001b[0m\u001b[0;34m\u001b[0m\u001b[0;34m\u001b[0m\u001b[0m\n\u001b[0;32m---> 61\u001b[0;31m         \u001b[0;32mreturn\u001b[0m \u001b[0msession\u001b[0m\u001b[0;34m.\u001b[0m\u001b[0mrequest\u001b[0m\u001b[0;34m(\u001b[0m\u001b[0mmethod\u001b[0m\u001b[0;34m=\u001b[0m\u001b[0mmethod\u001b[0m\u001b[0;34m,\u001b[0m \u001b[0murl\u001b[0m\u001b[0;34m=\u001b[0m\u001b[0murl\u001b[0m\u001b[0;34m,\u001b[0m \u001b[0;34m**\u001b[0m\u001b[0mkwargs\u001b[0m\u001b[0;34m)\u001b[0m\u001b[0;34m\u001b[0m\u001b[0;34m\u001b[0m\u001b[0m\n\u001b[0m\u001b[1;32m     62\u001b[0m \u001b[0;34m\u001b[0m\u001b[0m\n\u001b[1;32m     63\u001b[0m \u001b[0;34m\u001b[0m\u001b[0m\n",
      "\u001b[0;32m~/anaconda3/lib/python3.7/site-packages/requests/sessions.py\u001b[0m in \u001b[0;36mrequest\u001b[0;34m(self, method, url, params, data, headers, cookies, files, auth, timeout, allow_redirects, proxies, hooks, stream, verify, cert, json)\u001b[0m\n\u001b[1;32m    528\u001b[0m         }\n\u001b[1;32m    529\u001b[0m         \u001b[0msend_kwargs\u001b[0m\u001b[0;34m.\u001b[0m\u001b[0mupdate\u001b[0m\u001b[0;34m(\u001b[0m\u001b[0msettings\u001b[0m\u001b[0;34m)\u001b[0m\u001b[0;34m\u001b[0m\u001b[0;34m\u001b[0m\u001b[0m\n\u001b[0;32m--> 530\u001b[0;31m         \u001b[0mresp\u001b[0m \u001b[0;34m=\u001b[0m \u001b[0mself\u001b[0m\u001b[0;34m.\u001b[0m\u001b[0msend\u001b[0m\u001b[0;34m(\u001b[0m\u001b[0mprep\u001b[0m\u001b[0;34m,\u001b[0m \u001b[0;34m**\u001b[0m\u001b[0msend_kwargs\u001b[0m\u001b[0;34m)\u001b[0m\u001b[0;34m\u001b[0m\u001b[0;34m\u001b[0m\u001b[0m\n\u001b[0m\u001b[1;32m    531\u001b[0m \u001b[0;34m\u001b[0m\u001b[0m\n\u001b[1;32m    532\u001b[0m         \u001b[0;32mreturn\u001b[0m \u001b[0mresp\u001b[0m\u001b[0;34m\u001b[0m\u001b[0;34m\u001b[0m\u001b[0m\n",
      "\u001b[0;32m~/anaconda3/lib/python3.7/site-packages/requests/sessions.py\u001b[0m in \u001b[0;36msend\u001b[0;34m(self, request, **kwargs)\u001b[0m\n\u001b[1;32m    641\u001b[0m \u001b[0;34m\u001b[0m\u001b[0m\n\u001b[1;32m    642\u001b[0m         \u001b[0;31m# Send the request\u001b[0m\u001b[0;34m\u001b[0m\u001b[0;34m\u001b[0m\u001b[0;34m\u001b[0m\u001b[0m\n\u001b[0;32m--> 643\u001b[0;31m         \u001b[0mr\u001b[0m \u001b[0;34m=\u001b[0m \u001b[0madapter\u001b[0m\u001b[0;34m.\u001b[0m\u001b[0msend\u001b[0m\u001b[0;34m(\u001b[0m\u001b[0mrequest\u001b[0m\u001b[0;34m,\u001b[0m \u001b[0;34m**\u001b[0m\u001b[0mkwargs\u001b[0m\u001b[0;34m)\u001b[0m\u001b[0;34m\u001b[0m\u001b[0;34m\u001b[0m\u001b[0m\n\u001b[0m\u001b[1;32m    644\u001b[0m \u001b[0;34m\u001b[0m\u001b[0m\n\u001b[1;32m    645\u001b[0m         \u001b[0;31m# Total elapsed time of the request (approximately)\u001b[0m\u001b[0;34m\u001b[0m\u001b[0;34m\u001b[0m\u001b[0;34m\u001b[0m\u001b[0m\n",
      "\u001b[0;32m~/anaconda3/lib/python3.7/site-packages/requests/adapters.py\u001b[0m in \u001b[0;36msend\u001b[0;34m(self, request, stream, timeout, verify, cert, proxies)\u001b[0m\n\u001b[1;32m    447\u001b[0m                     \u001b[0mdecode_content\u001b[0m\u001b[0;34m=\u001b[0m\u001b[0;32mFalse\u001b[0m\u001b[0;34m,\u001b[0m\u001b[0;34m\u001b[0m\u001b[0;34m\u001b[0m\u001b[0m\n\u001b[1;32m    448\u001b[0m                     \u001b[0mretries\u001b[0m\u001b[0;34m=\u001b[0m\u001b[0mself\u001b[0m\u001b[0;34m.\u001b[0m\u001b[0mmax_retries\u001b[0m\u001b[0;34m,\u001b[0m\u001b[0;34m\u001b[0m\u001b[0;34m\u001b[0m\u001b[0m\n\u001b[0;32m--> 449\u001b[0;31m                     \u001b[0mtimeout\u001b[0m\u001b[0;34m=\u001b[0m\u001b[0mtimeout\u001b[0m\u001b[0;34m\u001b[0m\u001b[0;34m\u001b[0m\u001b[0m\n\u001b[0m\u001b[1;32m    450\u001b[0m                 )\n\u001b[1;32m    451\u001b[0m \u001b[0;34m\u001b[0m\u001b[0m\n",
      "\u001b[0;32m~/anaconda3/lib/python3.7/site-packages/urllib3/connectionpool.py\u001b[0m in \u001b[0;36murlopen\u001b[0;34m(self, method, url, body, headers, retries, redirect, assert_same_host, timeout, pool_timeout, release_conn, chunked, body_pos, **response_kw)\u001b[0m\n\u001b[1;32m    670\u001b[0m                 \u001b[0mbody\u001b[0m\u001b[0;34m=\u001b[0m\u001b[0mbody\u001b[0m\u001b[0;34m,\u001b[0m\u001b[0;34m\u001b[0m\u001b[0;34m\u001b[0m\u001b[0m\n\u001b[1;32m    671\u001b[0m                 \u001b[0mheaders\u001b[0m\u001b[0;34m=\u001b[0m\u001b[0mheaders\u001b[0m\u001b[0;34m,\u001b[0m\u001b[0;34m\u001b[0m\u001b[0;34m\u001b[0m\u001b[0m\n\u001b[0;32m--> 672\u001b[0;31m                 \u001b[0mchunked\u001b[0m\u001b[0;34m=\u001b[0m\u001b[0mchunked\u001b[0m\u001b[0;34m,\u001b[0m\u001b[0;34m\u001b[0m\u001b[0;34m\u001b[0m\u001b[0m\n\u001b[0m\u001b[1;32m    673\u001b[0m             )\n\u001b[1;32m    674\u001b[0m \u001b[0;34m\u001b[0m\u001b[0m\n",
      "\u001b[0;32m~/anaconda3/lib/python3.7/site-packages/urllib3/connectionpool.py\u001b[0m in \u001b[0;36m_make_request\u001b[0;34m(self, conn, method, url, timeout, chunked, **httplib_request_kw)\u001b[0m\n\u001b[1;32m    374\u001b[0m         \u001b[0;31m# Trigger any extra validation we need to do.\u001b[0m\u001b[0;34m\u001b[0m\u001b[0;34m\u001b[0m\u001b[0;34m\u001b[0m\u001b[0m\n\u001b[1;32m    375\u001b[0m         \u001b[0;32mtry\u001b[0m\u001b[0;34m:\u001b[0m\u001b[0;34m\u001b[0m\u001b[0;34m\u001b[0m\u001b[0m\n\u001b[0;32m--> 376\u001b[0;31m             \u001b[0mself\u001b[0m\u001b[0;34m.\u001b[0m\u001b[0m_validate_conn\u001b[0m\u001b[0;34m(\u001b[0m\u001b[0mconn\u001b[0m\u001b[0;34m)\u001b[0m\u001b[0;34m\u001b[0m\u001b[0;34m\u001b[0m\u001b[0m\n\u001b[0m\u001b[1;32m    377\u001b[0m         \u001b[0;32mexcept\u001b[0m \u001b[0;34m(\u001b[0m\u001b[0mSocketTimeout\u001b[0m\u001b[0;34m,\u001b[0m \u001b[0mBaseSSLError\u001b[0m\u001b[0;34m)\u001b[0m \u001b[0;32mas\u001b[0m \u001b[0me\u001b[0m\u001b[0;34m:\u001b[0m\u001b[0;34m\u001b[0m\u001b[0;34m\u001b[0m\u001b[0m\n\u001b[1;32m    378\u001b[0m             \u001b[0;31m# Py2 raises this as a BaseSSLError, Py3 raises it as socket timeout.\u001b[0m\u001b[0;34m\u001b[0m\u001b[0;34m\u001b[0m\u001b[0;34m\u001b[0m\u001b[0m\n",
      "\u001b[0;32m~/anaconda3/lib/python3.7/site-packages/urllib3/connectionpool.py\u001b[0m in \u001b[0;36m_validate_conn\u001b[0;34m(self, conn)\u001b[0m\n\u001b[1;32m    992\u001b[0m         \u001b[0;31m# Force connect early to allow us to validate the connection.\u001b[0m\u001b[0;34m\u001b[0m\u001b[0;34m\u001b[0m\u001b[0;34m\u001b[0m\u001b[0m\n\u001b[1;32m    993\u001b[0m         \u001b[0;32mif\u001b[0m \u001b[0;32mnot\u001b[0m \u001b[0mgetattr\u001b[0m\u001b[0;34m(\u001b[0m\u001b[0mconn\u001b[0m\u001b[0;34m,\u001b[0m \u001b[0;34m\"sock\"\u001b[0m\u001b[0;34m,\u001b[0m \u001b[0;32mNone\u001b[0m\u001b[0;34m)\u001b[0m\u001b[0;34m:\u001b[0m  \u001b[0;31m# AppEngine might not have  `.sock`\u001b[0m\u001b[0;34m\u001b[0m\u001b[0;34m\u001b[0m\u001b[0m\n\u001b[0;32m--> 994\u001b[0;31m             \u001b[0mconn\u001b[0m\u001b[0;34m.\u001b[0m\u001b[0mconnect\u001b[0m\u001b[0;34m(\u001b[0m\u001b[0;34m)\u001b[0m\u001b[0;34m\u001b[0m\u001b[0;34m\u001b[0m\u001b[0m\n\u001b[0m\u001b[1;32m    995\u001b[0m \u001b[0;34m\u001b[0m\u001b[0m\n\u001b[1;32m    996\u001b[0m         \u001b[0;32mif\u001b[0m \u001b[0;32mnot\u001b[0m \u001b[0mconn\u001b[0m\u001b[0;34m.\u001b[0m\u001b[0mis_verified\u001b[0m\u001b[0;34m:\u001b[0m\u001b[0;34m\u001b[0m\u001b[0;34m\u001b[0m\u001b[0m\n",
      "\u001b[0;32m~/anaconda3/lib/python3.7/site-packages/urllib3/connection.py\u001b[0m in \u001b[0;36mconnect\u001b[0;34m(self)\u001b[0m\n\u001b[1;32m    298\u001b[0m     \u001b[0;32mdef\u001b[0m \u001b[0mconnect\u001b[0m\u001b[0;34m(\u001b[0m\u001b[0mself\u001b[0m\u001b[0;34m)\u001b[0m\u001b[0;34m:\u001b[0m\u001b[0;34m\u001b[0m\u001b[0;34m\u001b[0m\u001b[0m\n\u001b[1;32m    299\u001b[0m         \u001b[0;31m# Add certificate verification\u001b[0m\u001b[0;34m\u001b[0m\u001b[0;34m\u001b[0m\u001b[0;34m\u001b[0m\u001b[0m\n\u001b[0;32m--> 300\u001b[0;31m         \u001b[0mconn\u001b[0m \u001b[0;34m=\u001b[0m \u001b[0mself\u001b[0m\u001b[0;34m.\u001b[0m\u001b[0m_new_conn\u001b[0m\u001b[0;34m(\u001b[0m\u001b[0;34m)\u001b[0m\u001b[0;34m\u001b[0m\u001b[0;34m\u001b[0m\u001b[0m\n\u001b[0m\u001b[1;32m    301\u001b[0m         \u001b[0mhostname\u001b[0m \u001b[0;34m=\u001b[0m \u001b[0mself\u001b[0m\u001b[0;34m.\u001b[0m\u001b[0mhost\u001b[0m\u001b[0;34m\u001b[0m\u001b[0;34m\u001b[0m\u001b[0m\n\u001b[1;32m    302\u001b[0m \u001b[0;34m\u001b[0m\u001b[0m\n",
      "\u001b[0;32m~/anaconda3/lib/python3.7/site-packages/urllib3/connection.py\u001b[0m in \u001b[0;36m_new_conn\u001b[0;34m(self)\u001b[0m\n\u001b[1;32m    155\u001b[0m         \u001b[0;32mtry\u001b[0m\u001b[0;34m:\u001b[0m\u001b[0;34m\u001b[0m\u001b[0;34m\u001b[0m\u001b[0m\n\u001b[1;32m    156\u001b[0m             conn = connection.create_connection(\n\u001b[0;32m--> 157\u001b[0;31m                 \u001b[0;34m(\u001b[0m\u001b[0mself\u001b[0m\u001b[0;34m.\u001b[0m\u001b[0m_dns_host\u001b[0m\u001b[0;34m,\u001b[0m \u001b[0mself\u001b[0m\u001b[0;34m.\u001b[0m\u001b[0mport\u001b[0m\u001b[0;34m)\u001b[0m\u001b[0;34m,\u001b[0m \u001b[0mself\u001b[0m\u001b[0;34m.\u001b[0m\u001b[0mtimeout\u001b[0m\u001b[0;34m,\u001b[0m \u001b[0;34m**\u001b[0m\u001b[0mextra_kw\u001b[0m\u001b[0;34m\u001b[0m\u001b[0;34m\u001b[0m\u001b[0m\n\u001b[0m\u001b[1;32m    158\u001b[0m             )\n\u001b[1;32m    159\u001b[0m \u001b[0;34m\u001b[0m\u001b[0m\n",
      "\u001b[0;32m~/anaconda3/lib/python3.7/site-packages/urllib3/util/connection.py\u001b[0m in \u001b[0;36mcreate_connection\u001b[0;34m(address, timeout, source_address, socket_options)\u001b[0m\n\u001b[1;32m     72\u001b[0m             \u001b[0;32mif\u001b[0m \u001b[0msource_address\u001b[0m\u001b[0;34m:\u001b[0m\u001b[0;34m\u001b[0m\u001b[0;34m\u001b[0m\u001b[0m\n\u001b[1;32m     73\u001b[0m                 \u001b[0msock\u001b[0m\u001b[0;34m.\u001b[0m\u001b[0mbind\u001b[0m\u001b[0;34m(\u001b[0m\u001b[0msource_address\u001b[0m\u001b[0;34m)\u001b[0m\u001b[0;34m\u001b[0m\u001b[0;34m\u001b[0m\u001b[0m\n\u001b[0;32m---> 74\u001b[0;31m             \u001b[0msock\u001b[0m\u001b[0;34m.\u001b[0m\u001b[0mconnect\u001b[0m\u001b[0;34m(\u001b[0m\u001b[0msa\u001b[0m\u001b[0;34m)\u001b[0m\u001b[0;34m\u001b[0m\u001b[0;34m\u001b[0m\u001b[0m\n\u001b[0m\u001b[1;32m     75\u001b[0m             \u001b[0;32mreturn\u001b[0m \u001b[0msock\u001b[0m\u001b[0;34m\u001b[0m\u001b[0;34m\u001b[0m\u001b[0m\n\u001b[1;32m     76\u001b[0m \u001b[0;34m\u001b[0m\u001b[0m\n",
      "\u001b[0;31mKeyboardInterrupt\u001b[0m: "
     ]
    }
   ],
   "source": [
    "#currently very slow\n",
    "import requests\n",
    "import json\n",
    "\n",
    "# Fetch data from a REST API\n",
    "r = requests.get(\n",
    "    \"https://quotes.rest/qod.json\")\n",
    "res = r.json()\n",
    "print(json.dumps(res, indent=4))\n",
    "\n",
    "# Extract relevant object and field\n",
    "q = res[\"contents\"][\"quotes\"][0]\n",
    "print(q[\"quote\"], \"\\n--\", q[\"author\"])"
   ]
  },
  {
   "cell_type": "markdown",
   "metadata": {},
   "source": [
    "## Cleaning"
   ]
  },
  {
   "cell_type": "code",
   "execution_count": 4,
   "metadata": {
    "scrolled": true
   },
   "outputs": [
    {
     "name": "stdout",
     "output_type": "stream",
     "text": [
      "<html op=\"news\"><head><meta name=\"referrer\" content=\"origin\"><meta name=\"viewport\" content=\"width=device-width, initial-scale=1.0\"><link rel=\"stylesheet\" type=\"text/css\" href=\"news.css?8TojdIkfXE2jenmubhu1\">\n",
      "        <link rel=\"shortcut icon\" href=\"favicon.ico\">\n",
      "          <link rel=\"alternate\" type=\"application/rss+xml\" title=\"RSS\" href=\"rss\">\n",
      "        <title>Hacker News</title></head><body><center><table id=\"hnmain\" border=\"0\" cellpadding=\"0\" cellspacing=\"0\" width=\"85%\" bgcolor=\"#f6f6ef\">\n",
      "        <tr><td bgcolor=\"#ff6600\"><table border=\"0\" cellpadding=\"0\" cellspacing=\"0\" width=\"100%\" style=\"padding:2px\"><tr><td style=\"width:18px;padding-right:4px\"><a href=\"https://news.ycombinator.com\"><img src=\"y18.gif\" width=\"18\" height=\"18\" style=\"border:1px white solid;\"></a></td>\n",
      "                  <td style=\"line-height:12pt; height:10px;\"><span class=\"pagetop\"><b class=\"hnname\"><a href=\"news\">Hacker News</a></b>\n",
      "              <a href=\"newest\">new</a> | <a href=\"front\">past</a> | <a href=\"newcomments\">comments</a> | <a href=\"ask\">ask</a> | <a href=\"show\">show</a> | <a href=\"jobs\">jobs</a> | <a href=\"submit\">submit</a>            </span></td><td style=\"text-align:right;padding-right:4px;\"><span class=\"pagetop\">\n",
      "                              <a href=\"login?goto=news\">login</a>\n",
      "                          </span></td>\n",
      "              </tr></table></td></tr>\n",
      "<tr id=\"pagespace\" title=\"\" style=\"height:10px\"></tr><tr><td><table border=\"0\" cellpadding=\"0\" cellspacing=\"0\" class=\"itemlist\">\n",
      "              <tr class='athing' id='22831323'>\n",
      "      <td align=\"right\" valign=\"top\" class=\"title\"><span class=\"rank\">1.</span></td>      <td valign=\"top\" class=\"votelinks\"><center><a id='up_22831323' href='vote?id=22831323&amp;how=up&amp;goto=news'><div class='votearrow' title='upvote'></div></a></center></td><td class=\"title\"><a href=\"https://onezero.medium.com/the-morning-paper-revisited-35b407822494\" class=\"storylink\">E Ink Smart Screen Puts a Newspaper on Your Wall</a><span class=\"sitebit comhead\"> (<a href=\"from?site=onezero.medium.com\"><span class=\"sitestr\">onezero.medium.com</span></a>)</span></td></tr><tr><td colspan=\"2\"></td><td class=\"subtext\">\n",
      "        <span class=\"score\" id=\"score_22831323\">238 points</span> by <a href=\"user?id=hiharryhere\" class=\"hnuser\">hiharryhere</a> <span class=\"age\"><a href=\"item?id=22831323\">5 hours ago</a></span> <span id=\"unv_22831323\"></span> | <a href=\"hide?id=22831323&amp;goto=news\">hide</a> | <a href=\"item?id=22831323\">135&nbsp;comments</a>              </td></tr>\n",
      "      <tr class=\"spacer\" style=\"height:5px\"></tr>\n",
      "                <tr class='athing' id='22831931'>\n",
      "      <td align=\"right\" valign=\"top\" class=\"title\"><span class=\"rank\">2.</span></td>      <td valign=\"top\" class=\"votelinks\"><center><a id='up_22831931' href='vote?id=22831931&amp;how=up&amp;goto=news'><div class='votearrow' title='upvote'></div></a></center></td><td class=\"title\"><a href=\"https://zserge.com/posts/j/\" class=\"storylink\">Ode to J</a><span class=\"sitebit comhead\"> (<a href=\"from?site=zserge.com\"><span class=\"sitestr\">zserge.com</span></a>)</span></td></tr><tr><td colspan=\"2\"></td><td class=\"subtext\">\n",
      "        <span class=\"score\" id=\"score_22831931\">80 points</span> by <a href=\"user?id=lelf\" class=\"hnuser\">lelf</a> <span class=\"age\"><a href=\"item?id=22831931\">3 hours ago</a></span> <span id=\"unv_22831931\"></span> | <a href=\"hide?id=22831931&amp;goto=news\">hide</a> | <a href=\"item?id=22831931\">12&nbsp;comments</a>              </td></tr>\n",
      "      <tr class=\"spacer\" style=\"height:5px\"></tr>\n",
      "                <tr class='athing' id='22833299'>\n",
      "      <td align=\"right\" valign=\"top\" class=\"title\"><span class=\"rank\">3.</span></td>      <td valign=\"top\" class=\"votelinks\"><center><a id='up_22833299' href='vote?id=22833299&amp;how=up&amp;goto=news'><div class='votearrow' title='upvote'></div></a></center></td><td class=\"title\"><a href=\"https://opensourceweekly.org/issues/7\" class=\"storylink\">Show HN: List of open source projects using SIMD to achieve extreme performance</a><span class=\"sitebit comhead\"> (<a href=\"from?site=opensourceweekly.org\"><span class=\"sitestr\">opensourceweekly.org</span></a>)</span></td></tr><tr><td colspan=\"2\"></td><td class=\"subtext\">\n",
      "        <span class=\"score\" id=\"score_22833299\">10 points</span> by <a href=\"user?id=z0mbie42\" class=\"hnuser\">z0mbie42</a> <span class=\"age\"><a href=\"item?id=22833299\">42 minutes ago</a></span> <span id=\"unv_22833299\"></span> | <a href=\"hide?id=22833299&amp;goto=news\">hide</a> | <a href=\"item?id=22833299\">discuss</a>              </td></tr>\n",
      "      <tr class=\"spacer\" style=\"height:5px\"></tr>\n",
      "                <tr class='athing' id='22832955'>\n",
      "      <td align=\"right\" valign=\"top\" class=\"title\"><span class=\"rank\">4.</span></td>      <td valign=\"top\" class=\"votelinks\"><center><a id='up_22832955' href='vote?id=22832955&amp;how=up&amp;goto=news'><div class='votearrow' title='upvote'></div></a></center></td><td class=\"title\"><a href=\"https://vorner.github.io/2020/04/09/wrapping-mental-models.html\" class=\"storylink\">Rust: Mental models around Ok-Wrapping</a><span class=\"sitebit comhead\"> (<a href=\"from?site=vorner.github.io\"><span class=\"sitestr\">vorner.github.io</span></a>)</span></td></tr><tr><td colspan=\"2\"></td><td class=\"subtext\">\n",
      "        <span class=\"score\" id=\"score_22832955\">25 points</span> by <a href=\"user?id=ansible\" class=\"hnuser\">ansible</a> <span class=\"age\"><a href=\"item?id=22832955\">1 hour ago</a></span> <span id=\"unv_22832955\"></span> | <a href=\"hide?id=22832955&amp;goto=news\">hide</a> | <a href=\"item?id=22832955\">2&nbsp;comments</a>              </td></tr>\n",
      "      <tr class=\"spacer\" style=\"height:5px\"></tr>\n",
      "                <tr class='athing' id='22832848'>\n",
      "      <td align=\"right\" valign=\"top\" class=\"title\"><span class=\"rank\">5.</span></td>      <td valign=\"top\" class=\"votelinks\"><center><a id='up_22832848' href='vote?id=22832848&amp;how=up&amp;goto=news'><div class='votearrow' title='upvote'></div></a></center></td><td class=\"title\"><a href=\"https://www.hex-rays.com/products/ida-home-is-coming/\" class=\"storylink\">Ida Home</a><span class=\"sitebit comhead\"> (<a href=\"from?site=hex-rays.com\"><span class=\"sitestr\">hex-rays.com</span></a>)</span></td></tr><tr><td colspan=\"2\"></td><td class=\"subtext\">\n",
      "        <span class=\"score\" id=\"score_22832848\">37 points</span> by <a href=\"user?id=custardfan5\" class=\"hnuser\">custardfan5</a> <span class=\"age\"><a href=\"item?id=22832848\">1 hour ago</a></span> <span id=\"unv_22832848\"></span> | <a href=\"hide?id=22832848&amp;goto=news\">hide</a> | <a href=\"item?id=22832848\">20&nbsp;comments</a>              </td></tr>\n",
      "      <tr class=\"spacer\" style=\"height:5px\"></tr>\n",
      "                <tr class='athing' id='22831015'>\n",
      "      <td align=\"right\" valign=\"top\" class=\"title\"><span class=\"rank\">6.</span></td>      <td valign=\"top\" class=\"votelinks\"><center><a id='up_22831015' href='vote?id=22831015&amp;how=up&amp;goto=news'><div class='votearrow' title='upvote'></div></a></center></td><td class=\"title\"><a href=\"https://markmap.js.org/\" class=\"storylink\">Convert Markdown to a Mind Map</a><span class=\"sitebit comhead\"> (<a href=\"from?site=markmap.js.org\"><span class=\"sitestr\">markmap.js.org</span></a>)</span></td></tr><tr><td colspan=\"2\"></td><td class=\"subtext\">\n",
      "        <span class=\"score\" id=\"score_22831015\">253 points</span> by <a href=\"user?id=gera2ld\" class=\"hnuser\">gera2ld</a> <span class=\"age\"><a href=\"item?id=22831015\">6 hours ago</a></span> <span id=\"unv_22831015\"></span> | <a href=\"hide?id=22831015&amp;goto=news\">hide</a> | <a href=\"item?id=22831015\">45&nbsp;comments</a>              </td></tr>\n",
      "      <tr class=\"spacer\" style=\"height:5px\"></tr>\n",
      "                <tr class='athing' id='22833413'>\n",
      "      <td align=\"right\" valign=\"top\" class=\"title\"><span class=\"rank\">7.</span></td>      <td valign=\"top\" class=\"votelinks\"><center><a id='up_22833413' href='vote?id=22833413&amp;how=up&amp;goto=news'><div class='votearrow' title='upvote'></div></a></center></td><td class=\"title\"><a href=\"https://www.reuters.com/article/us-health-coronavirus-southkorea/south-korea-reports-recovered-coronavirus-patients-testing-positive-again-idUSKCN21S15X\" class=\"storylink\">South Korea reports recovered Covid-19 patients testing positive again</a><span class=\"sitebit comhead\"> (<a href=\"from?site=reuters.com\"><span class=\"sitestr\">reuters.com</span></a>)</span></td></tr><tr><td colspan=\"2\"></td><td class=\"subtext\">\n",
      "        <span class=\"score\" id=\"score_22833413\">20 points</span> by <a href=\"user?id=abhiminator\" class=\"hnuser\">abhiminator</a> <span class=\"age\"><a href=\"item?id=22833413\">30 minutes ago</a></span> <span id=\"unv_22833413\"></span> | <a href=\"hide?id=22833413&amp;goto=news\">hide</a> | <a href=\"item?id=22833413\">2&nbsp;comments</a>              </td></tr>\n",
      "      <tr class=\"spacer\" style=\"height:5px\"></tr>\n",
      "                <tr class='athing' id='22833304'>\n",
      "      <td align=\"right\" valign=\"top\" class=\"title\"><span class=\"rank\">8.</span></td>      <td valign=\"top\" class=\"votelinks\"><center><a id='up_22833304' href='vote?id=22833304&amp;how=up&amp;goto=news'><div class='votearrow' title='upvote'></div></a></center></td><td class=\"title\"><a href=\"https://github.com/braidchat/braid\" class=\"storylink\">Braid is a team-chat app with a novel UI that leads to better conversations</a><span class=\"sitebit comhead\"> (<a href=\"from?site=github.com\"><span class=\"sitestr\">github.com</span></a>)</span></td></tr><tr><td colspan=\"2\"></td><td class=\"subtext\">\n",
      "        <span class=\"score\" id=\"score_22833304\">16 points</span> by <a href=\"user?id=simonpure\" class=\"hnuser\">simonpure</a> <span class=\"age\"><a href=\"item?id=22833304\">41 minutes ago</a></span> <span id=\"unv_22833304\"></span> | <a href=\"hide?id=22833304&amp;goto=news\">hide</a> | <a href=\"item?id=22833304\">discuss</a>              </td></tr>\n",
      "      <tr class=\"spacer\" style=\"height:5px\"></tr>\n",
      "                <tr class='athing' id='22833429'>\n",
      "      <td align=\"right\" valign=\"top\" class=\"title\"><span class=\"rank\">9.</span></td>      <td valign=\"top\" class=\"votelinks\"><center><a id='up_22833429' href='vote?id=22833429&amp;how=up&amp;goto=news'><div class='votearrow' title='upvote'></div></a></center></td><td class=\"title\"><a href=\"http://loup-vaillant.fr/tutorials/avoid-assignment\" class=\"storylink\" rel=\"nofollow\">How to Avoid the Assignment Statement</a><span class=\"sitebit comhead\"> (<a href=\"from?site=loup-vaillant.fr\"><span class=\"sitestr\">loup-vaillant.fr</span></a>)</span></td></tr><tr><td colspan=\"2\"></td><td class=\"subtext\">\n",
      "        <span class=\"score\" id=\"score_22833429\">7 points</span> by <a href=\"user?id=ingve\" class=\"hnuser\">ingve</a> <span class=\"age\"><a href=\"item?id=22833429\">29 minutes ago</a></span> <span id=\"unv_22833429\"></span> | <a href=\"hide?id=22833429&amp;goto=news\">hide</a> | <a href=\"item?id=22833429\">discuss</a>              </td></tr>\n",
      "      <tr class=\"spacer\" style=\"height:5px\"></tr>\n",
      "                <tr class='athing' id='22830330'>\n",
      "      <td align=\"right\" valign=\"top\" class=\"title\"><span class=\"rank\">10.</span></td>      <td valign=\"top\" class=\"votelinks\"><center><a id='up_22830330' href='vote?id=22830330&amp;how=up&amp;goto=news'><div class='votearrow' title='upvote'></div></a></center></td><td class=\"title\"><a href=\"https://make-linux-fast-again.com/\" class=\"storylink\">Make Linux Fast Again (2019)</a><span class=\"sitebit comhead\"> (<a href=\"from?site=make-linux-fast-again.com\"><span class=\"sitestr\">make-linux-fast-again.com</span></a>)</span></td></tr><tr><td colspan=\"2\"></td><td class=\"subtext\">\n",
      "        <span class=\"score\" id=\"score_22830330\">240 points</span> by <a href=\"user?id=laurentdc\" class=\"hnuser\">laurentdc</a> <span class=\"age\"><a href=\"item?id=22830330\">9 hours ago</a></span> <span id=\"unv_22830330\"></span> | <a href=\"hide?id=22830330&amp;goto=news\">hide</a> | <a href=\"item?id=22830330\">187&nbsp;comments</a>              </td></tr>\n",
      "      <tr class=\"spacer\" style=\"height:5px\"></tr>\n",
      "                <tr class='athing' id='22823070'>\n",
      "      <td align=\"right\" valign=\"top\" class=\"title\"><span class=\"rank\">11.</span></td>      <td valign=\"top\" class=\"votelinks\"><center><a id='up_22823070' href='vote?id=22823070&amp;how=up&amp;goto=news'><div class='votearrow' title='upvote'></div></a></center></td><td class=\"title\"><a href=\"https://elder.dev/posts/open-source-virtual-background/\" class=\"storylink\">Open-Source Virtual Background</a><span class=\"sitebit comhead\"> (<a href=\"from?site=elder.dev\"><span class=\"sitestr\">elder.dev</span></a>)</span></td></tr><tr><td colspan=\"2\"></td><td class=\"subtext\">\n",
      "        <span class=\"score\" id=\"score_22823070\">325 points</span> by <a href=\"user?id=jcastro\" class=\"hnuser\">jcastro</a> <span class=\"age\"><a href=\"item?id=22823070\">12 hours ago</a></span> <span id=\"unv_22823070\"></span> | <a href=\"hide?id=22823070&amp;goto=news\">hide</a> | <a href=\"item?id=22823070\">59&nbsp;comments</a>              </td></tr>\n",
      "      <tr class=\"spacer\" style=\"height:5px\"></tr>\n",
      "                <tr class='athing' id='22832960'>\n",
      "      <td align=\"right\" valign=\"top\" class=\"title\"><span class=\"rank\">12.</span></td>      <td valign=\"top\" class=\"votelinks\"><center><a id='up_22832960' href='vote?id=22832960&amp;how=up&amp;goto=news'><div class='votearrow' title='upvote'></div></a></center></td><td class=\"title\"><a href=\"https://www.medrxiv.org/content/10.1101/2020.04.05.20051540v1\" class=\"storylink\">SARS-CoV-2 titers in wastewater are higher than expected from confirmed cases</a><span class=\"sitebit comhead\"> (<a href=\"from?site=medrxiv.org\"><span class=\"sitestr\">medrxiv.org</span></a>)</span></td></tr><tr><td colspan=\"2\"></td><td class=\"subtext\">\n",
      "        <span class=\"score\" id=\"score_22832960\">67 points</span> by <a href=\"user?id=guscost\" class=\"hnuser\">guscost</a> <span class=\"age\"><a href=\"item?id=22832960\">1 hour ago</a></span> <span id=\"unv_22832960\"></span> | <a href=\"hide?id=22832960&amp;goto=news\">hide</a> | <a href=\"item?id=22832960\">79&nbsp;comments</a>              </td></tr>\n",
      "      <tr class=\"spacer\" style=\"height:5px\"></tr>\n",
      "                <tr class='athing' id='22832914'>\n",
      "      <td align=\"right\" valign=\"top\" class=\"title\"><span class=\"rank\">13.</span></td>      <td valign=\"top\" class=\"votelinks\"><center><a id='up_22832914' href='vote?id=22832914&amp;how=up&amp;goto=news'><div class='votearrow' title='upvote'></div></a></center></td><td class=\"title\"><a href=\"https://sloanreview.mit.edu/article/a-long-time-until-the-economic-new-normal/\" class=\"storylink\">A Long Time Until the Economic New Normal</a><span class=\"sitebit comhead\"> (<a href=\"from?site=mit.edu\"><span class=\"sitestr\">mit.edu</span></a>)</span></td></tr><tr><td colspan=\"2\"></td><td class=\"subtext\">\n",
      "        <span class=\"score\" id=\"score_22832914\">41 points</span> by <a href=\"user?id=sarapeyton\" class=\"hnuser\">sarapeyton</a> <span class=\"age\"><a href=\"item?id=22832914\">1 hour ago</a></span> <span id=\"unv_22832914\"></span> | <a href=\"hide?id=22832914&amp;goto=news\">hide</a> | <a href=\"item?id=22832914\">48&nbsp;comments</a>              </td></tr>\n",
      "      <tr class=\"spacer\" style=\"height:5px\"></tr>\n",
      "                <tr class='athing' id='22830320'>\n",
      "      <td align=\"right\" valign=\"top\" class=\"title\"><span class=\"rank\">14.</span></td>      <td valign=\"top\" class=\"votelinks\"><center><a id='up_22830320' href='vote?id=22830320&amp;how=up&amp;goto=news'><div class='votearrow' title='upvote'></div></a></center></td><td class=\"title\"><a href=\"https://www.tillett.info/2020/04/05/a-solution-to-covid-19/\" class=\"storylink\">A (possible) solution to Covid-19</a><span class=\"sitebit comhead\"> (<a href=\"from?site=tillett.info\"><span class=\"sitestr\">tillett.info</span></a>)</span></td></tr><tr><td colspan=\"2\"></td><td class=\"subtext\">\n",
      "        <span class=\"score\" id=\"score_22830320\">440 points</span> by <a href=\"user?id=danieltillett\" class=\"hnuser\">danieltillett</a> <span class=\"age\"><a href=\"item?id=22830320\">9 hours ago</a></span> <span id=\"unv_22830320\"></span> | <a href=\"hide?id=22830320&amp;goto=news\">hide</a> | <a href=\"item?id=22830320\">377&nbsp;comments</a>              </td></tr>\n",
      "      <tr class=\"spacer\" style=\"height:5px\"></tr>\n",
      "                <tr class='athing' id='22831567'>\n",
      "      <td align=\"right\" valign=\"top\" class=\"title\"><span class=\"rank\">15.</span></td>      <td valign=\"top\" class=\"votelinks\"><center><a id='up_22831567' href='vote?id=22831567&amp;how=up&amp;goto=news'><div class='votearrow' title='upvote'></div></a></center></td><td class=\"title\"><a href=\"https://tools.ietf.org/html/draft-rosenberg-dispatch-ript-sipdiffs-00\" class=\"storylink\">Real Time Internet Peering for Telephony (RIPT) Comparison with SIP</a><span class=\"sitebit comhead\"> (<a href=\"from?site=ietf.org\"><span class=\"sitestr\">ietf.org</span></a>)</span></td></tr><tr><td colspan=\"2\"></td><td class=\"subtext\">\n",
      "        <span class=\"score\" id=\"score_22831567\">23 points</span> by <a href=\"user?id=currysausage\" class=\"hnuser\">currysausage</a> <span class=\"age\"><a href=\"item?id=22831567\">4 hours ago</a></span> <span id=\"unv_22831567\"></span> | <a href=\"hide?id=22831567&amp;goto=news\">hide</a> | <a href=\"item?id=22831567\">4&nbsp;comments</a>              </td></tr>\n",
      "      <tr class=\"spacer\" style=\"height:5px\"></tr>\n",
      "                <tr class='athing' id='22831789'>\n",
      "      <td align=\"right\" valign=\"top\" class=\"title\"><span class=\"rank\">16.</span></td>      <td valign=\"top\" class=\"votelinks\"><center><a id='up_22831789' href='vote?id=22831789&amp;how=up&amp;goto=news'><div class='votearrow' title='upvote'></div></a></center></td><td class=\"title\"><a href=\"https://science.sciencemag.org/content/early/2020/04/08/science.aaz7949\" class=\"storylink\">Emergence of complexity in hierarchically organized chiral particles</a><span class=\"sitebit comhead\"> (<a href=\"from?site=sciencemag.org\"><span class=\"sitestr\">sciencemag.org</span></a>)</span></td></tr><tr><td colspan=\"2\"></td><td class=\"subtext\">\n",
      "        <span class=\"score\" id=\"score_22831789\">23 points</span> by <a href=\"user?id=bookofjoe\" class=\"hnuser\">bookofjoe</a> <span class=\"age\"><a href=\"item?id=22831789\">4 hours ago</a></span> <span id=\"unv_22831789\"></span> | <a href=\"hide?id=22831789&amp;goto=news\">hide</a> | <a href=\"item?id=22831789\">1&nbsp;comment</a>              </td></tr>\n",
      "      <tr class=\"spacer\" style=\"height:5px\"></tr>\n",
      "                <tr class='athing' id='22818595'>\n",
      "      <td align=\"right\" valign=\"top\" class=\"title\"><span class=\"rank\">17.</span></td>      <td valign=\"top\" class=\"votelinks\"><center><a id='up_22818595' href='vote?id=22818595&amp;how=up&amp;goto=news'><div class='votearrow' title='upvote'></div></a></center></td><td class=\"title\"><a href=\"https://arstechnica.com/science/2020/04/new-guinea-villagers-unearth-evidence-of-the-islands-neolithic-past/\" class=\"storylink\">New Guinea villagers unearth evidence of the island’s Neolithic past</a><span class=\"sitebit comhead\"> (<a href=\"from?site=arstechnica.com\"><span class=\"sitestr\">arstechnica.com</span></a>)</span></td></tr><tr><td colspan=\"2\"></td><td class=\"subtext\">\n",
      "        <span class=\"score\" id=\"score_22818595\">34 points</span> by <a href=\"user?id=diodorus\" class=\"hnuser\">diodorus</a> <span class=\"age\"><a href=\"item?id=22818595\">7 hours ago</a></span> <span id=\"unv_22818595\"></span> | <a href=\"hide?id=22818595&amp;goto=news\">hide</a> | <a href=\"item?id=22818595\">discuss</a>              </td></tr>\n",
      "      <tr class=\"spacer\" style=\"height:5px\"></tr>\n",
      "                <tr class='athing' id='22821798'>\n",
      "      <td align=\"right\" valign=\"top\" class=\"title\"><span class=\"rank\">18.</span></td>      <td valign=\"top\" class=\"votelinks\"><center><a id='up_22821798' href='vote?id=22821798&amp;how=up&amp;goto=news'><div class='votearrow' title='upvote'></div></a></center></td><td class=\"title\"><a href=\"https://github.com/aind-containers/aind\" class=\"storylink\">AinD: Android in Docker</a><span class=\"sitebit comhead\"> (<a href=\"from?site=github.com\"><span class=\"sitestr\">github.com</span></a>)</span></td></tr><tr><td colspan=\"2\"></td><td class=\"subtext\">\n",
      "        <span class=\"score\" id=\"score_22821798\">126 points</span> by <a href=\"user?id=ingve\" class=\"hnuser\">ingve</a> <span class=\"age\"><a href=\"item?id=22821798\">13 hours ago</a></span> <span id=\"unv_22821798\"></span> | <a href=\"hide?id=22821798&amp;goto=news\">hide</a> | <a href=\"item?id=22821798\">18&nbsp;comments</a>              </td></tr>\n",
      "      <tr class=\"spacer\" style=\"height:5px\"></tr>\n",
      "                <tr class='athing' id='22824618'>\n",
      "      <td align=\"right\" valign=\"top\" class=\"title\"><span class=\"rank\">19.</span></td>      <td valign=\"top\" class=\"votelinks\"><center><a id='up_22824618' href='vote?id=22824618&amp;how=up&amp;goto=news'><div class='votearrow' title='upvote'></div></a></center></td><td class=\"title\"><a href=\"item?id=22824618\" class=\"storylink\">Launch HN: Art in Res (YC W20) – Buy art directly from artists</a></td></tr><tr><td colspan=\"2\"></td><td class=\"subtext\">\n",
      "        <span class=\"score\" id=\"score_22824618\">374 points</span> by <a href=\"user?id=JohnFriel\" class=\"hnuser\">JohnFriel</a> <span class=\"age\"><a href=\"item?id=22824618\">21 hours ago</a></span> <span id=\"unv_22824618\"></span> | <a href=\"hide?id=22824618&amp;goto=news\">hide</a> | <a href=\"item?id=22824618\">203&nbsp;comments</a>              </td></tr>\n",
      "      <tr class=\"spacer\" style=\"height:5px\"></tr>\n",
      "                <tr class='athing' id='22830201'>\n",
      "      <td align=\"right\" valign=\"top\" class=\"title\"><span class=\"rank\">20.</span></td>      <td valign=\"top\" class=\"votelinks\"><center><a id='up_22830201' href='vote?id=22830201&amp;how=up&amp;goto=news'><div class='votearrow' title='upvote'></div></a></center></td><td class=\"title\"><a href=\"https://dragan.rocks/articles/20/Clojure-Numpy-Cupy-CPU-GPU\" class=\"storylink\">CuPy Accelerates NumPy on the GPU? Hold My Cider, Here's Clojure</a><span class=\"sitebit comhead\"> (<a href=\"from?site=dragan.rocks\"><span class=\"sitestr\">dragan.rocks</span></a>)</span></td></tr><tr><td colspan=\"2\"></td><td class=\"subtext\">\n",
      "        <span class=\"score\" id=\"score_22830201\">61 points</span> by <a href=\"user?id=signa11\" class=\"hnuser\">signa11</a> <span class=\"age\"><a href=\"item?id=22830201\">9 hours ago</a></span> <span id=\"unv_22830201\"></span> | <a href=\"hide?id=22830201&amp;goto=news\">hide</a> | <a href=\"item?id=22830201\">14&nbsp;comments</a>              </td></tr>\n",
      "      <tr class=\"spacer\" style=\"height:5px\"></tr>\n",
      "                <tr class='athing' id='22828932'>\n",
      "      <td align=\"right\" valign=\"top\" class=\"title\"><span class=\"rank\">21.</span></td>      <td valign=\"top\" class=\"votelinks\"><center><a id='up_22828932' href='vote?id=22828932&amp;how=up&amp;goto=news'><div class='votearrow' title='upvote'></div></a></center></td><td class=\"title\"><a href=\"https://www.neilwithdata.com/developer-hiring\" class=\"storylink\">The software industry's greatest sin: hiring</a><span class=\"sitebit comhead\"> (<a href=\"from?site=neilwithdata.com\"><span class=\"sitestr\">neilwithdata.com</span></a>)</span></td></tr><tr><td colspan=\"2\"></td><td class=\"subtext\">\n",
      "        <span class=\"score\" id=\"score_22828932\">442 points</span> by <a href=\"user?id=nsainsbury\" class=\"hnuser\">nsainsbury</a> <span class=\"age\"><a href=\"item?id=22828932\">13 hours ago</a></span> <span id=\"unv_22828932\"></span> | <a href=\"hide?id=22828932&amp;goto=news\">hide</a> | <a href=\"item?id=22828932\">422&nbsp;comments</a>              </td></tr>\n",
      "      <tr class=\"spacer\" style=\"height:5px\"></tr>\n",
      "                <tr class='athing' id='22828321'>\n",
      "      <td align=\"right\" valign=\"top\" class=\"title\"><span class=\"rank\">22.</span></td>      <td valign=\"top\" class=\"votelinks\"><center><a id='up_22828321' href='vote?id=22828321&amp;how=up&amp;goto=news'><div class='votearrow' title='upvote'></div></a></center></td><td class=\"title\"><a href=\"https://ei7gl.blogspot.com/2020/04/first-trans-atlantic-contact-made-on.html\" class=\"storylink\">First trans-Atlantic contact made on 432 MHz</a><span class=\"sitebit comhead\"> (<a href=\"from?site=ei7gl.blogspot.com\"><span class=\"sitestr\">ei7gl.blogspot.com</span></a>)</span></td></tr><tr><td colspan=\"2\"></td><td class=\"subtext\">\n",
      "        <span class=\"score\" id=\"score_22828321\">373 points</span> by <a href=\"user?id=lightlyused\" class=\"hnuser\">lightlyused</a> <span class=\"age\"><a href=\"item?id=22828321\">15 hours ago</a></span> <span id=\"unv_22828321\"></span> | <a href=\"hide?id=22828321&amp;goto=news\">hide</a> | <a href=\"item?id=22828321\">107&nbsp;comments</a>              </td></tr>\n",
      "      <tr class=\"spacer\" style=\"height:5px\"></tr>\n",
      "                <tr class='athing' id='22832515'>\n",
      "      <td align=\"right\" valign=\"top\" class=\"title\"><span class=\"rank\">23.</span></td>      <td valign=\"top\" class=\"votelinks\"><center><a id='up_22832515' href='vote?id=22832515&amp;how=up&amp;goto=news'><div class='votearrow' title='upvote'></div></a></center></td><td class=\"title\"><a href=\"http://www.skeeve.com/fork-my-code.html\" class=\"storylink\" rel=\"nofollow\">Fork My Code, Please (2014)</a><span class=\"sitebit comhead\"> (<a href=\"from?site=skeeve.com\"><span class=\"sitestr\">skeeve.com</span></a>)</span></td></tr><tr><td colspan=\"2\"></td><td class=\"subtext\">\n",
      "        <span class=\"score\" id=\"score_22832515\">3 points</span> by <a href=\"user?id=Tomte\" class=\"hnuser\">Tomte</a> <span class=\"age\"><a href=\"item?id=22832515\">2 hours ago</a></span> <span id=\"unv_22832515\"></span> | <a href=\"hide?id=22832515&amp;goto=news\">hide</a> | <a href=\"item?id=22832515\">discuss</a>              </td></tr>\n",
      "      <tr class=\"spacer\" style=\"height:5px\"></tr>\n",
      "                <tr class='athing' id='22823094'>\n",
      "      <td align=\"right\" valign=\"top\" class=\"title\"><span class=\"rank\">24.</span></td>      <td valign=\"top\" class=\"votelinks\"><center><a id='up_22823094' href='vote?id=22823094&amp;how=up&amp;goto=news'><div class='votearrow' title='upvote'></div></a></center></td><td class=\"title\"><a href=\"https://towardsdatascience.com/why-we-do-machine-learning-engineering-with-yaml-not-notebooks-a2a97f5e04f8\" class=\"storylink\">Why we do machine learning engineering with YAML, not notebooks</a><span class=\"sitebit comhead\"> (<a href=\"from?site=towardsdatascience.com\"><span class=\"sitestr\">towardsdatascience.com</span></a>)</span></td></tr><tr><td colspan=\"2\"></td><td class=\"subtext\">\n",
      "        <span class=\"score\" id=\"score_22823094\">66 points</span> by <a href=\"user?id=ChefboyOG\" class=\"hnuser\">ChefboyOG</a> <span class=\"age\"><a href=\"item?id=22823094\">10 hours ago</a></span> <span id=\"unv_22823094\"></span> | <a href=\"hide?id=22823094&amp;goto=news\">hide</a> | <a href=\"item?id=22823094\">19&nbsp;comments</a>              </td></tr>\n",
      "      <tr class=\"spacer\" style=\"height:5px\"></tr>\n",
      "                <tr class='athing' id='22828590'>\n",
      "      <td align=\"right\" valign=\"top\" class=\"title\"><span class=\"rank\">25.</span></td>      <td valign=\"top\" class=\"votelinks\"><center><a id='up_22828590' href='vote?id=22828590&amp;how=up&amp;goto=news'><div class='votearrow' title='upvote'></div></a></center></td><td class=\"title\"><a href=\"https://www.ncbi.nlm.nih.gov/pmc/articles/PMC1781276/\" class=\"storylink\">Self-Management of Fatal Familial Insomnia: Case Report (2006)</a><span class=\"sitebit comhead\"> (<a href=\"from?site=nih.gov\"><span class=\"sitestr\">nih.gov</span></a>)</span></td></tr><tr><td colspan=\"2\"></td><td class=\"subtext\">\n",
      "        <span class=\"score\" id=\"score_22828590\">59 points</span> by <a href=\"user?id=ajmarcic\" class=\"hnuser\">ajmarcic</a> <span class=\"age\"><a href=\"item?id=22828590\">11 hours ago</a></span> <span id=\"unv_22828590\"></span> | <a href=\"hide?id=22828590&amp;goto=news\">hide</a> | <a href=\"item?id=22828590\">10&nbsp;comments</a>              </td></tr>\n",
      "      <tr class=\"spacer\" style=\"height:5px\"></tr>\n",
      "                <tr class='athing' id='22828991'>\n",
      "      <td align=\"right\" valign=\"top\" class=\"title\"><span class=\"rank\">26.</span></td>      <td valign=\"top\" class=\"votelinks\"><center><a id='up_22828991' href='vote?id=22828991&amp;how=up&amp;goto=news'><div class='votearrow' title='upvote'></div></a></center></td><td class=\"title\"><a href=\"https://www.lynalden.com/global-dollar-short-squeeze/\" class=\"storylink\">The Global Dollar Short Squeeze</a><span class=\"sitebit comhead\"> (<a href=\"from?site=lynalden.com\"><span class=\"sitestr\">lynalden.com</span></a>)</span></td></tr><tr><td colspan=\"2\"></td><td class=\"subtext\">\n",
      "        <span class=\"score\" id=\"score_22828991\">348 points</span> by <a href=\"user?id=exolymph\" class=\"hnuser\">exolymph</a> <span class=\"age\"><a href=\"item?id=22828991\">13 hours ago</a></span> <span id=\"unv_22828991\"></span> | <a href=\"hide?id=22828991&amp;goto=news\">hide</a> | <a href=\"item?id=22828991\">167&nbsp;comments</a>              </td></tr>\n",
      "      <tr class=\"spacer\" style=\"height:5px\"></tr>\n",
      "                <tr class='athing' id='22831604'>\n",
      "      <td align=\"right\" valign=\"top\" class=\"title\"><span class=\"rank\">27.</span></td>      <td valign=\"top\" class=\"votelinks\"><center><a id='up_22831604' href='vote?id=22831604&amp;how=up&amp;goto=news'><div class='votearrow' title='upvote'></div></a></center></td><td class=\"title\"><a href=\"https://github.com/MichaelMure/git-bug\" class=\"storylink\">Show HN: Git-bug – Distributed bug tracker, or what to do when GitHub is down</a><span class=\"sitebit comhead\"> (<a href=\"from?site=github.com\"><span class=\"sitestr\">github.com</span></a>)</span></td></tr><tr><td colspan=\"2\"></td><td class=\"subtext\">\n",
      "        <span class=\"score\" id=\"score_22831604\">67 points</span> by <a href=\"user?id=michaelmure\" class=\"hnuser\">michaelmure</a> <span class=\"age\"><a href=\"item?id=22831604\">4 hours ago</a></span> <span id=\"unv_22831604\"></span> | <a href=\"hide?id=22831604&amp;goto=news\">hide</a> | <a href=\"item?id=22831604\">18&nbsp;comments</a>              </td></tr>\n",
      "      <tr class=\"spacer\" style=\"height:5px\"></tr>\n",
      "                <tr class='athing' id='22830361'>\n",
      "      <td align=\"right\" valign=\"top\" class=\"title\"><span class=\"rank\">28.</span></td>      <td valign=\"top\" class=\"votelinks\"><center><a id='up_22830361' href='vote?id=22830361&amp;how=up&amp;goto=news'><div class='votearrow' title='upvote'></div></a></center></td><td class=\"title\"><a href=\"https://books.google.nl/books?id=JT0EAAAAMBAJ&amp;pg=RA1-PA33&amp;redir_esc=y#v=onepage&amp;q&amp;f=false\" class=\"storylink\">Captain Grace M. Hopper: The Mother of COBOL (1981)</a><span class=\"sitebit comhead\"> (<a href=\"from?site=books.google.nl\"><span class=\"sitestr\">books.google.nl</span></a>)</span></td></tr><tr><td colspan=\"2\"></td><td class=\"subtext\">\n",
      "        <span class=\"score\" id=\"score_22830361\">35 points</span> by <a href=\"user?id=bryanrasmussen\" class=\"hnuser\">bryanrasmussen</a> <span class=\"age\"><a href=\"item?id=22830361\">9 hours ago</a></span> <span id=\"unv_22830361\"></span> | <a href=\"hide?id=22830361&amp;goto=news\">hide</a> | <a href=\"item?id=22830361\">11&nbsp;comments</a>              </td></tr>\n",
      "      <tr class=\"spacer\" style=\"height:5px\"></tr>\n",
      "                <tr class='athing' id='22831506'>\n",
      "      <td align=\"right\" valign=\"top\" class=\"title\"><span class=\"rank\">29.</span></td>      <td valign=\"top\" class=\"votelinks\"><center><a id='up_22831506' href='vote?id=22831506&amp;how=up&amp;goto=news'><div class='votearrow' title='upvote'></div></a></center></td><td class=\"title\"><a href=\"https://www.mozilla.org/en-US/firefox/75.0/releasenotes/\" class=\"storylink\">Firefox 75.0</a><span class=\"sitebit comhead\"> (<a href=\"from?site=mozilla.org\"><span class=\"sitestr\">mozilla.org</span></a>)</span></td></tr><tr><td colspan=\"2\"></td><td class=\"subtext\">\n",
      "        <span class=\"score\" id=\"score_22831506\">170 points</span> by <a href=\"user?id=abhiminator\" class=\"hnuser\">abhiminator</a> <span class=\"age\"><a href=\"item?id=22831506\">5 hours ago</a></span> <span id=\"unv_22831506\"></span> | <a href=\"hide?id=22831506&amp;goto=news\">hide</a> | <a href=\"item?id=22831506\">158&nbsp;comments</a>              </td></tr>\n",
      "      <tr class=\"spacer\" style=\"height:5px\"></tr>\n",
      "                <tr class='athing' id='22832907'>\n",
      "      <td align=\"right\" valign=\"top\" class=\"title\"><span class=\"rank\">30.</span></td>      <td valign=\"top\" class=\"votelinks\"><center><a id='up_22832907' href='vote?id=22832907&amp;how=up&amp;goto=news'><div class='votearrow' title='upvote'></div></a></center></td><td class=\"title\"><a href=\"https://www.vox.com/2020/4/10/21215494/coronavirus-plans-social-distancing-economy-recession-depression-unemployment\" class=\"storylink\" rel=\"nofollow\">The plans to reopen the economy are scary</a><span class=\"sitebit comhead\"> (<a href=\"from?site=vox.com\"><span class=\"sitestr\">vox.com</span></a>)</span></td></tr><tr><td colspan=\"2\"></td><td class=\"subtext\">\n",
      "        <span class=\"score\" id=\"score_22832907\">7 points</span> by <a href=\"user?id=Farbodkhz\" class=\"hnuser\">Farbodkhz</a> <span class=\"age\"><a href=\"item?id=22832907\">1 hour ago</a></span> <span id=\"unv_22832907\"></span> | <a href=\"hide?id=22832907&amp;goto=news\">hide</a> | <a href=\"item?id=22832907\">discuss</a>              </td></tr>\n",
      "      <tr class=\"spacer\" style=\"height:5px\"></tr>\n",
      "            <tr class=\"morespace\" style=\"height:10px\"></tr><tr><td colspan=\"2\"></td><td class=\"title\"><a href=\"news?p=2\" class=\"morelink\" rel=\"next\">More</a></td></tr>\n",
      "  </table>\n",
      "</td></tr>\n",
      "<tr><td><img src=\"s.gif\" height=\"10\" width=\"0\"><table width=\"100%\" cellspacing=\"0\" cellpadding=\"1\"><tr><td bgcolor=\"#ff6600\"></td></tr></table><br><center><span class=\"yclinks\"><a href=\"newsguidelines.html\">Guidelines</a>\n",
      "        | <a href=\"newsfaq.html\">FAQ</a>\n",
      "        | <a href=\"mailto:hn@ycombinator.com\">Support</a>\n",
      "        | <a href=\"https://github.com/HackerNews/API\">API</a>\n",
      "        | <a href=\"security.html\">Security</a>\n",
      "        | <a href=\"lists\">Lists</a>\n",
      "        | <a href=\"bookmarklet.html\" rel=\"nofollow\">Bookmarklet</a>\n",
      "        | <a href=\"http://www.ycombinator.com/legal/\">Legal</a>\n",
      "        | <a href=\"http://www.ycombinator.com/apply/\">Apply to YC</a>\n",
      "        | <a href=\"mailto:hn@ycombinator.com\">Contact</a></span><br><br><form method=\"get\" action=\"//hn.algolia.com/\">Search:\n",
      "          <input type=\"text\" name=\"q\" value=\"\" size=\"17\" autocorrect=\"off\" spellcheck=\"false\" autocapitalize=\"off\" autocomplete=\"false\"></form>\n",
      "            </center></td></tr>\n",
      "      </table></center></body><script type='text/javascript' src='hn.js?8TojdIkfXE2jenmubhu1'></script></html>\n",
      "\n"
     ]
    }
   ],
   "source": [
    "import requests\n",
    "\n",
    "# Fetch a web page\n",
    "r = requests.get(\"https://news.ycombinator.com\")\n",
    "print(r.text)"
   ]
  },
  {
   "cell_type": "code",
   "execution_count": 5,
   "metadata": {},
   "outputs": [
    {
     "name": "stdout",
     "output_type": "stream",
     "text": [
      "\n",
      "        \n",
      "          \n",
      "        Hacker News\n",
      "        \n",
      "                  Hacker News\n",
      "              new | past | comments | ask | show | jobs | submit            \n",
      "                              login\n",
      "                          \n",
      "              \n",
      "\n",
      "              \n",
      "      1.      E Ink Smart Screen Puts a Newspaper on Your Wall (onezero.medium.com)\n",
      "        238 points by hiharryhere 5 hours ago  | hide | 135&nbsp;comments              \n",
      "      \n",
      "                \n",
      "      2.      Ode to J (zserge.com)\n",
      "        80 points by lelf 3 hours ago  | hide | 12&nbsp;comments              \n",
      "      \n",
      "                \n",
      "      3.      Show HN: List of open source projects using SIMD to achieve extreme performance (opensourceweekly.org)\n",
      "        10 points by z0mbie42 42 minutes ago  | hide | discuss              \n",
      "      \n",
      "                \n",
      "      4.      Rust: Mental models around Ok-Wrapping (vorner.github.io)\n",
      "        25 points by ansible 1 hour ago  | hide | 2&nbsp;comments              \n",
      "      \n",
      "                \n",
      "      5.      Ida Home (hex-rays.com)\n",
      "        37 points by custardfan5 1 hour ago  | hide | 20&nbsp;comments              \n",
      "      \n",
      "                \n",
      "      6.      Convert Markdown to a Mind Map (markmap.js.org)\n",
      "        253 points by gera2ld 6 hours ago  | hide | 45&nbsp;comments              \n",
      "      \n",
      "                \n",
      "      7.      South Korea reports recovered Covid-19 patients testing positive again (reuters.com)\n",
      "        20 points by abhiminator 30 minutes ago  | hide | 2&nbsp;comments              \n",
      "      \n",
      "                \n",
      "      8.      Braid is a team-chat app with a novel UI that leads to better conversations (github.com)\n",
      "        16 points by simonpure 41 minutes ago  | hide | discuss              \n",
      "      \n",
      "                \n",
      "      9.      How to Avoid the Assignment Statement (loup-vaillant.fr)\n",
      "        7 points by ingve 29 minutes ago  | hide | discuss              \n",
      "      \n",
      "                \n",
      "      10.      Make Linux Fast Again (2019) (make-linux-fast-again.com)\n",
      "        240 points by laurentdc 9 hours ago  | hide | 187&nbsp;comments              \n",
      "      \n",
      "                \n",
      "      11.      Open-Source Virtual Background (elder.dev)\n",
      "        325 points by jcastro 12 hours ago  | hide | 59&nbsp;comments              \n",
      "      \n",
      "                \n",
      "      12.      SARS-CoV-2 titers in wastewater are higher than expected from confirmed cases (medrxiv.org)\n",
      "        67 points by guscost 1 hour ago  | hide | 79&nbsp;comments              \n",
      "      \n",
      "                \n",
      "      13.      A Long Time Until the Economic New Normal (mit.edu)\n",
      "        41 points by sarapeyton 1 hour ago  | hide | 48&nbsp;comments              \n",
      "      \n",
      "                \n",
      "      14.      A (possible) solution to Covid-19 (tillett.info)\n",
      "        440 points by danieltillett 9 hours ago  | hide | 377&nbsp;comments              \n",
      "      \n",
      "                \n",
      "      15.      Real Time Internet Peering for Telephony (RIPT) Comparison with SIP (ietf.org)\n",
      "        23 points by currysausage 4 hours ago  | hide | 4&nbsp;comments              \n",
      "      \n",
      "                \n",
      "      16.      Emergence of complexity in hierarchically organized chiral particles (sciencemag.org)\n",
      "        23 points by bookofjoe 4 hours ago  | hide | 1&nbsp;comment              \n",
      "      \n",
      "                \n",
      "      17.      New Guinea villagers unearth evidence of the island’s Neolithic past (arstechnica.com)\n",
      "        34 points by diodorus 7 hours ago  | hide | discuss              \n",
      "      \n",
      "                \n",
      "      18.      AinD: Android in Docker (github.com)\n",
      "        126 points by ingve 13 hours ago  | hide | 18&nbsp;comments              \n",
      "      \n",
      "                \n",
      "      19.      Launch HN: Art in Res (YC W20) – Buy art directly from artists\n",
      "        374 points by JohnFriel 21 hours ago  | hide | 203&nbsp;comments              \n",
      "      \n",
      "                \n",
      "      20.      CuPy Accelerates NumPy on the GPU? Hold My Cider, Here's Clojure (dragan.rocks)\n",
      "        61 points by signa11 9 hours ago  | hide | 14&nbsp;comments              \n",
      "      \n",
      "                \n",
      "      21.      The software industry's greatest sin: hiring (neilwithdata.com)\n",
      "        442 points by nsainsbury 13 hours ago  | hide | 422&nbsp;comments              \n",
      "      \n",
      "                \n",
      "      22.      First trans-Atlantic contact made on 432 MHz (ei7gl.blogspot.com)\n",
      "        373 points by lightlyused 15 hours ago  | hide | 107&nbsp;comments              \n",
      "      \n",
      "                \n",
      "      23.      Fork My Code, Please (2014) (skeeve.com)\n",
      "        3 points by Tomte 2 hours ago  | hide | discuss              \n",
      "      \n",
      "                \n",
      "      24.      Why we do machine learning engineering with YAML, not notebooks (towardsdatascience.com)\n",
      "        66 points by ChefboyOG 10 hours ago  | hide | 19&nbsp;comments              \n",
      "      \n",
      "                \n",
      "      25.      Self-Management of Fatal Familial Insomnia: Case Report (2006) (nih.gov)\n",
      "        59 points by ajmarcic 11 hours ago  | hide | 10&nbsp;comments              \n",
      "      \n",
      "                \n",
      "      26.      The Global Dollar Short Squeeze (lynalden.com)\n",
      "        348 points by exolymph 13 hours ago  | hide | 167&nbsp;comments              \n",
      "      \n",
      "                \n",
      "      27.      Show HN: Git-bug – Distributed bug tracker, or what to do when GitHub is down (github.com)\n",
      "        67 points by michaelmure 4 hours ago  | hide | 18&nbsp;comments              \n",
      "      \n",
      "                \n",
      "      28.      Captain Grace M. Hopper: The Mother of COBOL (1981) (books.google.nl)\n",
      "        35 points by bryanrasmussen 9 hours ago  | hide | 11&nbsp;comments              \n",
      "      \n",
      "                \n",
      "      29.      Firefox 75.0 (mozilla.org)\n",
      "        170 points by abhiminator 5 hours ago  | hide | 158&nbsp;comments              \n",
      "      \n",
      "                \n",
      "      30.      The plans to reopen the economy are scary (vox.com)\n",
      "        7 points by Farbodkhz 1 hour ago  | hide | discuss              \n",
      "      \n",
      "            More\n",
      "  \n",
      "\n",
      "Guidelines\n",
      "        | FAQ\n",
      "        | Support\n",
      "        | API\n",
      "        | Security\n",
      "        | Lists\n",
      "        | Bookmarklet\n",
      "        | Legal\n",
      "        | Apply to YC\n",
      "        | ContactSearch:\n",
      "          \n",
      "            \n",
      "      \n",
      "\n"
     ]
    }
   ],
   "source": [
    "import re\n",
    "\n",
    "# Remove HTML tags using RegEx\n",
    "pattern = re.compile(r'<.*?>')  # tags look like <...>\n",
    "print(pattern.sub('', r.text))  # replace them with blank"
   ]
  },
  {
   "cell_type": "code",
   "execution_count": 6,
   "metadata": {},
   "outputs": [
    {
     "name": "stdout",
     "output_type": "stream",
     "text": [
      "\n",
      "        \n",
      "          \n",
      "        Hacker News\n",
      "        \n",
      "                  Hacker News\n",
      "              new | past | comments | ask | show | jobs | submit            \n",
      "                              login\n",
      "                          \n",
      "              \n",
      "\n",
      "              \n",
      "      1.      E Ink Smart Screen Puts a Newspaper on Your Wall (onezero.medium.com)\n",
      "        238 points by hiharryhere 5 hours ago  | hide | 135 comments              \n",
      "      \n",
      "                \n",
      "      2.      Ode to J (zserge.com)\n",
      "        80 points by lelf 3 hours ago  | hide | 12 comments              \n",
      "      \n",
      "                \n",
      "      3.      Show HN: List of open source projects using SIMD to achieve extreme performance (opensourceweekly.org)\n",
      "        10 points by z0mbie42 42 minutes ago  | hide | discuss              \n",
      "      \n",
      "                \n",
      "      4.      Rust: Mental models around Ok-Wrapping (vorner.github.io)\n",
      "        25 points by ansible 1 hour ago  | hide | 2 comments              \n",
      "      \n",
      "                \n",
      "      5.      Ida Home (hex-rays.com)\n",
      "        37 points by custardfan5 1 hour ago  | hide | 20 comments              \n",
      "      \n",
      "                \n",
      "      6.      Convert Markdown to a Mind Map (markmap.js.org)\n",
      "        253 points by gera2ld 6 hours ago  | hide | 45 comments              \n",
      "      \n",
      "                \n",
      "      7.      South Korea reports recovered Covid-19 patients testing positive again (reuters.com)\n",
      "        20 points by abhiminator 30 minutes ago  | hide | 2 comments              \n",
      "      \n",
      "                \n",
      "      8.      Braid is a team-chat app with a novel UI that leads to better conversations (github.com)\n",
      "        16 points by simonpure 41 minutes ago  | hide | discuss              \n",
      "      \n",
      "                \n",
      "      9.      How to Avoid the Assignment Statement (loup-vaillant.fr)\n",
      "        7 points by ingve 29 minutes ago  | hide | discuss              \n",
      "      \n",
      "                \n",
      "      10.      Make Linux Fast Again (2019) (make-linux-fast-again.com)\n",
      "        240 points by laurentdc 9 hours ago  | hide | 187 comments              \n",
      "      \n",
      "                \n",
      "      11.      Open-Source Virtual Background (elder.dev)\n",
      "        325 points by jcastro 12 hours ago  | hide | 59 comments              \n",
      "      \n",
      "                \n",
      "      12.      SARS-CoV-2 titers in wastewater are higher than expected from confirmed cases (medrxiv.org)\n",
      "        67 points by guscost 1 hour ago  | hide | 79 comments              \n",
      "      \n",
      "                \n",
      "      13.      A Long Time Until the Economic New Normal (mit.edu)\n",
      "        41 points by sarapeyton 1 hour ago  | hide | 48 comments              \n",
      "      \n",
      "                \n",
      "      14.      A (possible) solution to Covid-19 (tillett.info)\n",
      "        440 points by danieltillett 9 hours ago  | hide | 377 comments              \n",
      "      \n",
      "                \n",
      "      15.      Real Time Internet Peering for Telephony (RIPT) Comparison with SIP (ietf.org)\n",
      "        23 points by currysausage 4 hours ago  | hide | 4 comments              \n",
      "      \n",
      "                \n",
      "      16.      Emergence of complexity in hierarchically organized chiral particles (sciencemag.org)\n",
      "        23 points by bookofjoe 4 hours ago  | hide | 1 comment              \n",
      "      \n",
      "                \n",
      "      17.      New Guinea villagers unearth evidence of the island’s Neolithic past (arstechnica.com)\n",
      "        34 points by diodorus 7 hours ago  | hide | discuss              \n",
      "      \n",
      "                \n",
      "      18.      AinD: Android in Docker (github.com)\n",
      "        126 points by ingve 13 hours ago  | hide | 18 comments              \n",
      "      \n",
      "                \n",
      "      19.      Launch HN: Art in Res (YC W20) – Buy art directly from artists\n",
      "        374 points by JohnFriel 21 hours ago  | hide | 203 comments              \n",
      "      \n",
      "                \n",
      "      20.      CuPy Accelerates NumPy on the GPU? Hold My Cider, Here's Clojure (dragan.rocks)\n",
      "        61 points by signa11 9 hours ago  | hide | 14 comments              \n",
      "      \n",
      "                \n",
      "      21.      The software industry's greatest sin: hiring (neilwithdata.com)\n",
      "        442 points by nsainsbury 13 hours ago  | hide | 422 comments              \n",
      "      \n",
      "                \n",
      "      22.      First trans-Atlantic contact made on 432 MHz (ei7gl.blogspot.com)\n",
      "        373 points by lightlyused 15 hours ago  | hide | 107 comments              \n",
      "      \n",
      "                \n",
      "      23.      Fork My Code, Please (2014) (skeeve.com)\n",
      "        3 points by Tomte 2 hours ago  | hide | discuss              \n",
      "      \n",
      "                \n",
      "      24.      Why we do machine learning engineering with YAML, not notebooks (towardsdatascience.com)\n",
      "        66 points by ChefboyOG 10 hours ago  | hide | 19 comments              \n",
      "      \n",
      "                \n",
      "      25.      Self-Management of Fatal Familial Insomnia: Case Report (2006) (nih.gov)\n",
      "        59 points by ajmarcic 11 hours ago  | hide | 10 comments              \n",
      "      \n",
      "                \n",
      "      26.      The Global Dollar Short Squeeze (lynalden.com)\n",
      "        348 points by exolymph 13 hours ago  | hide | 167 comments              \n",
      "      \n",
      "                \n",
      "      27.      Show HN: Git-bug – Distributed bug tracker, or what to do when GitHub is down (github.com)\n",
      "        67 points by michaelmure 4 hours ago  | hide | 18 comments              \n",
      "      \n",
      "                \n",
      "      28.      Captain Grace M. Hopper: The Mother of COBOL (1981) (books.google.nl)\n",
      "        35 points by bryanrasmussen 9 hours ago  | hide | 11 comments              \n",
      "      \n",
      "                \n",
      "      29.      Firefox 75.0 (mozilla.org)\n",
      "        170 points by abhiminator 5 hours ago  | hide | 158 comments              \n",
      "      \n",
      "                \n",
      "      30.      The plans to reopen the economy are scary (vox.com)\n",
      "        7 points by Farbodkhz 1 hour ago  | hide | discuss              \n",
      "      \n",
      "            More\n",
      "  \n",
      "\n",
      "Guidelines\n",
      "        | FAQ\n",
      "        | Support\n",
      "        | API\n",
      "        | Security\n",
      "        | Lists\n",
      "        | Bookmarklet\n",
      "        | Legal\n",
      "        | Apply to YC\n",
      "        | ContactSearch:\n",
      "          \n",
      "            \n",
      "      \n",
      "\n"
     ]
    }
   ],
   "source": [
    "from bs4 import BeautifulSoup\n",
    "\n",
    "# Remove HTML tags using Beautiful Soup library\n",
    "soup = BeautifulSoup(r.text, \"html5lib\")\n",
    "print(soup.get_text())"
   ]
  },
  {
   "cell_type": "code",
   "execution_count": 7,
   "metadata": {
    "scrolled": true
   },
   "outputs": [
    {
     "data": {
      "text/plain": [
       "<tr class=\"athing\" id=\"22831323\">\n",
       "      <td align=\"right\" class=\"title\" valign=\"top\"><span class=\"rank\">1.</span></td>      <td class=\"votelinks\" valign=\"top\"><center><a href=\"vote?id=22831323&amp;how=up&amp;goto=news\" id=\"up_22831323\"><div class=\"votearrow\" title=\"upvote\"></div></a></center></td><td class=\"title\"><a class=\"storylink\" href=\"https://onezero.medium.com/the-morning-paper-revisited-35b407822494\">E Ink Smart Screen Puts a Newspaper on Your Wall</a><span class=\"sitebit comhead\"> (<a href=\"from?site=onezero.medium.com\"><span class=\"sitestr\">onezero.medium.com</span></a>)</span></td></tr>"
      ]
     },
     "execution_count": 7,
     "metadata": {},
     "output_type": "execute_result"
    }
   ],
   "source": [
    "# Find all articles\n",
    "summaries = soup.find_all(\"tr\", class_=\"athing\")\n",
    "summaries[0]"
   ]
  },
  {
   "cell_type": "code",
   "execution_count": 8,
   "metadata": {},
   "outputs": [
    {
     "data": {
      "text/plain": [
       "'E Ink Smart Screen Puts a Newspaper on Your Wall'"
      ]
     },
     "execution_count": 8,
     "metadata": {},
     "output_type": "execute_result"
    }
   ],
   "source": [
    "# Extract title\n",
    "summaries[0].find(\"a\", class_=\"storylink\").get_text().strip()"
   ]
  },
  {
   "cell_type": "code",
   "execution_count": 9,
   "metadata": {},
   "outputs": [
    {
     "name": "stdout",
     "output_type": "stream",
     "text": [
      "30 Article summaries found. Sample:\n",
      "E Ink Smart Screen Puts a Newspaper on Your Wall\n"
     ]
    }
   ],
   "source": [
    "# Find all articles, extract titles\n",
    "articles = []\n",
    "summaries = soup.find_all(\"tr\", class_=\"athing\")\n",
    "for summary in summaries:\n",
    "    title = summary.find(\"a\", class_=\"storylink\").get_text().strip()\n",
    "    articles.append((title))\n",
    "\n",
    "print(len(articles), \"Article summaries found. Sample:\")\n",
    "print(articles[0])"
   ]
  },
  {
   "cell_type": "markdown",
   "metadata": {
    "collapsed": true
   },
   "source": [
    "## Normalization"
   ]
  },
  {
   "cell_type": "markdown",
   "metadata": {},
   "source": [
    "### Case Normalization"
   ]
  },
  {
   "cell_type": "code",
   "execution_count": 10,
   "metadata": {},
   "outputs": [
    {
     "name": "stdout",
     "output_type": "stream",
     "text": [
      "The first time you see The Second Renaissance it may look boring. Look at it at least twice and definitely watch part 2. It will change your view of the matrix. Are the human people the ones who started the war ? Is AI a bad thing ?\n"
     ]
    }
   ],
   "source": [
    "# Sample text\n",
    "text = \"The first time you see The Second Renaissance it may look boring. Look at it at least twice and definitely watch part 2. It will change your view of the matrix. Are the human people the ones who started the war ? Is AI a bad thing ?\"\n",
    "print(text)"
   ]
  },
  {
   "cell_type": "code",
   "execution_count": 11,
   "metadata": {},
   "outputs": [
    {
     "name": "stdout",
     "output_type": "stream",
     "text": [
      "the first time you see the second renaissance it may look boring. look at it at least twice and definitely watch part 2. it will change your view of the matrix. are the human people the ones who started the war ? is ai a bad thing ?\n"
     ]
    }
   ],
   "source": [
    "# Convert to lowercase\n",
    "text = text.lower() \n",
    "print(text)"
   ]
  },
  {
   "cell_type": "markdown",
   "metadata": {},
   "source": [
    "### Punctuation Removal"
   ]
  },
  {
   "cell_type": "code",
   "execution_count": 12,
   "metadata": {},
   "outputs": [
    {
     "name": "stdout",
     "output_type": "stream",
     "text": [
      "the first time you see the second renaissance it may look boring  look at it at least twice and definitely watch part 2  it will change your view of the matrix  are the human people the ones who started the war   is ai a bad thing  \n"
     ]
    }
   ],
   "source": [
    "import re\n",
    "\n",
    "# Remove punctuation characters\n",
    "text = re.sub(r\"[^a-zA-Z0-9]\", \" \", text) \n",
    "print(text)"
   ]
  },
  {
   "cell_type": "markdown",
   "metadata": {},
   "source": [
    "## Tokenization"
   ]
  },
  {
   "cell_type": "code",
   "execution_count": 13,
   "metadata": {},
   "outputs": [
    {
     "name": "stdout",
     "output_type": "stream",
     "text": [
      "['the', 'first', 'time', 'you', 'see', 'the', 'second', 'renaissance', 'it', 'may', 'look', 'boring', 'look', 'at', 'it', 'at', 'least', 'twice', 'and', 'definitely', 'watch', 'part', '2', 'it', 'will', 'change', 'your', 'view', 'of', 'the', 'matrix', 'are', 'the', 'human', 'people', 'the', 'ones', 'who', 'started', 'the', 'war', 'is', 'ai', 'a', 'bad', 'thing']\n"
     ]
    }
   ],
   "source": [
    "# Split text into tokens (words)\n",
    "words = text.split()\n",
    "print(words)"
   ]
  },
  {
   "cell_type": "markdown",
   "metadata": {},
   "source": [
    "### NLTK: Natural Language ToolKit"
   ]
  },
  {
   "cell_type": "code",
   "execution_count": 14,
   "metadata": {},
   "outputs": [],
   "source": [
    "import os\n",
    "import nltk\n",
    "#nltk.data.path.append(os.path.join(os.getcwd(), \"nltk_data\"))"
   ]
  },
  {
   "cell_type": "code",
   "execution_count": 15,
   "metadata": {},
   "outputs": [
    {
     "name": "stdout",
     "output_type": "stream",
     "text": [
      "Dr. Smith graduated from the University of Washington. He later started an analytics firm called Lux, which catered to enterprise customers.\n"
     ]
    }
   ],
   "source": [
    "# Another sample text\n",
    "text = \"Dr. Smith graduated from the University of Washington. He later started an analytics firm called Lux, which catered to enterprise customers.\"\n",
    "print(text)"
   ]
  },
  {
   "cell_type": "code",
   "execution_count": 16,
   "metadata": {},
   "outputs": [
    {
     "name": "stdout",
     "output_type": "stream",
     "text": [
      "['Dr.', 'Smith', 'graduated', 'from', 'the', 'University', 'of', 'Washington', '.', 'He', 'later', 'started', 'an', 'analytics', 'firm', 'called', 'Lux', ',', 'which', 'catered', 'to', 'enterprise', 'customers', '.']\n"
     ]
    }
   ],
   "source": [
    "from nltk.tokenize import word_tokenize\n",
    "\n",
    "# Split text into words using NLTK\n",
    "words = word_tokenize(text)\n",
    "print(words)"
   ]
  },
  {
   "cell_type": "code",
   "execution_count": 17,
   "metadata": {},
   "outputs": [
    {
     "name": "stdout",
     "output_type": "stream",
     "text": [
      "['Dr. Smith graduated from the University of Washington.', 'He later started an analytics firm called Lux, which catered to enterprise customers.']\n"
     ]
    }
   ],
   "source": [
    "from nltk.tokenize import sent_tokenize\n",
    "\n",
    "# Split text into sentences\n",
    "sentences = sent_tokenize(text)\n",
    "print(sentences)"
   ]
  },
  {
   "cell_type": "code",
   "execution_count": 18,
   "metadata": {},
   "outputs": [
    {
     "name": "stdout",
     "output_type": "stream",
     "text": [
      "['i', 'me', 'my', 'myself', 'we', 'our', 'ours', 'ourselves', 'you', \"you're\", \"you've\", \"you'll\", \"you'd\", 'your', 'yours', 'yourself', 'yourselves', 'he', 'him', 'his', 'himself', 'she', \"she's\", 'her', 'hers', 'herself', 'it', \"it's\", 'its', 'itself', 'they', 'them', 'their', 'theirs', 'themselves', 'what', 'which', 'who', 'whom', 'this', 'that', \"that'll\", 'these', 'those', 'am', 'is', 'are', 'was', 'were', 'be', 'been', 'being', 'have', 'has', 'had', 'having', 'do', 'does', 'did', 'doing', 'a', 'an', 'the', 'and', 'but', 'if', 'or', 'because', 'as', 'until', 'while', 'of', 'at', 'by', 'for', 'with', 'about', 'against', 'between', 'into', 'through', 'during', 'before', 'after', 'above', 'below', 'to', 'from', 'up', 'down', 'in', 'out', 'on', 'off', 'over', 'under', 'again', 'further', 'then', 'once', 'here', 'there', 'when', 'where', 'why', 'how', 'all', 'any', 'both', 'each', 'few', 'more', 'most', 'other', 'some', 'such', 'no', 'nor', 'not', 'only', 'own', 'same', 'so', 'than', 'too', 'very', 's', 't', 'can', 'will', 'just', 'don', \"don't\", 'should', \"should've\", 'now', 'd', 'll', 'm', 'o', 're', 've', 'y', 'ain', 'aren', \"aren't\", 'couldn', \"couldn't\", 'didn', \"didn't\", 'doesn', \"doesn't\", 'hadn', \"hadn't\", 'hasn', \"hasn't\", 'haven', \"haven't\", 'isn', \"isn't\", 'ma', 'mightn', \"mightn't\", 'mustn', \"mustn't\", 'needn', \"needn't\", 'shan', \"shan't\", 'shouldn', \"shouldn't\", 'wasn', \"wasn't\", 'weren', \"weren't\", 'won', \"won't\", 'wouldn', \"wouldn't\"]\n"
     ]
    }
   ],
   "source": [
    "# List stop words\n",
    "from nltk.corpus import stopwords\n",
    "print(stopwords.words(\"english\"))"
   ]
  },
  {
   "cell_type": "code",
   "execution_count": 19,
   "metadata": {},
   "outputs": [
    {
     "name": "stdout",
     "output_type": "stream",
     "text": [
      "['the', 'first', 'time', 'you', 'see', 'the', 'second', 'renaissance', 'it', 'may', 'look', 'boring', 'look', 'at', 'it', 'at', 'least', 'twice', 'and', 'definitely', 'watch', 'part', '2', 'it', 'will', 'change', 'your', 'view', 'of', 'the', 'matrix', 'are', 'the', 'human', 'people', 'the', 'ones', 'who', 'started', 'the', 'war', 'is', 'ai', 'a', 'bad', 'thing']\n"
     ]
    }
   ],
   "source": [
    "# Reset text\n",
    "text = \"The first time you see The Second Renaissance it may look boring. Look at it at least twice and definitely watch part 2. It will change your view of the matrix. Are the human people the ones who started the war ? Is AI a bad thing ?\"\n",
    "\n",
    "# Normalize it\n",
    "text = re.sub(r\"[^a-zA-Z0-9]\", \" \", text.lower())\n",
    "\n",
    "# Tokenize it\n",
    "words = text.split()\n",
    "print(words)"
   ]
  },
  {
   "cell_type": "code",
   "execution_count": 20,
   "metadata": {},
   "outputs": [
    {
     "name": "stdout",
     "output_type": "stream",
     "text": [
      "['first', 'time', 'see', 'second', 'renaissance', 'may', 'look', 'boring', 'look', 'least', 'twice', 'definitely', 'watch', 'part', '2', 'change', 'view', 'matrix', 'human', 'people', 'ones', 'started', 'war', 'ai', 'bad', 'thing']\n"
     ]
    }
   ],
   "source": [
    "# Remove stop words\n",
    "words = [w for w in words if w not in stopwords.words(\"english\")]\n",
    "print(words)"
   ]
  },
  {
   "cell_type": "markdown",
   "metadata": {},
   "source": [
    "### Sentence Parsing"
   ]
  },
  {
   "cell_type": "code",
   "execution_count": 21,
   "metadata": {},
   "outputs": [
    {
     "name": "stdout",
     "output_type": "stream",
     "text": [
      "(S\n",
      "  (NP I)\n",
      "  (VP\n",
      "    (VP (V shot) (NP (Det an) (N elephant)))\n",
      "    (PP (P in) (NP (Det my) (N pajamas)))))\n",
      "(S\n",
      "  (NP I)\n",
      "  (VP\n",
      "    (V shot)\n",
      "    (NP (Det an) (N elephant) (PP (P in) (NP (Det my) (N pajamas))))))\n"
     ]
    }
   ],
   "source": [
    "import nltk\n",
    "\n",
    "# Define a custom grammar\n",
    "my_grammar = nltk.CFG.fromstring(\"\"\"\n",
    "S -> NP VP\n",
    "PP -> P NP\n",
    "NP -> Det N | Det N PP | 'I'\n",
    "VP -> V NP | VP PP\n",
    "Det -> 'an' | 'my'\n",
    "N -> 'elephant' | 'pajamas'\n",
    "V -> 'shot'\n",
    "P -> 'in'\n",
    "\"\"\")\n",
    "parser = nltk.ChartParser(my_grammar)\n",
    "\n",
    "# Parse a sentence\n",
    "sentence = word_tokenize(\"I shot an elephant in my pajamas\")\n",
    "for tree in parser.parse(sentence):\n",
    "    print(tree)"
   ]
  },
  {
   "cell_type": "code",
   "execution_count": null,
   "metadata": {},
   "outputs": [],
   "source": []
  }
 ],
 "metadata": {
  "kernelspec": {
   "display_name": "Python 3",
   "language": "python",
   "name": "python3"
  },
  "language_info": {
   "codemirror_mode": {
    "name": "ipython",
    "version": 3
   },
   "file_extension": ".py",
   "mimetype": "text/x-python",
   "name": "python",
   "nbconvert_exporter": "python",
   "pygments_lexer": "ipython3",
   "version": "3.7.1"
  }
 },
 "nbformat": 4,
 "nbformat_minor": 2
}
